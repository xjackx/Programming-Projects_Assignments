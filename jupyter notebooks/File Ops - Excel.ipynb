{
 "cells": [
  {
   "cell_type": "code",
   "execution_count": 1,
   "metadata": {
    "collapsed": true
   },
   "outputs": [],
   "source": [
    "import numpy as np\n",
    "import pandas as pd\n",
    "from pandas import Series,DataFrame"
   ]
  },
  {
   "cell_type": "code",
   "execution_count": 2,
   "metadata": {
    "collapsed": true
   },
   "outputs": [],
   "source": [
    "xlsfile=pd.ExcelFile('Salary Negotiation.xlsx')"
   ]
  },
  {
   "cell_type": "code",
   "execution_count": 3,
   "metadata": {
    "collapsed": false
   },
   "outputs": [
    {
     "data": {
      "text/plain": [
       "<pandas.io.excel.ExcelFile at 0xb1190f0>"
      ]
     },
     "execution_count": 3,
     "metadata": {},
     "output_type": "execute_result"
    }
   ],
   "source": [
    "xlsfile"
   ]
  },
  {
   "cell_type": "code",
   "execution_count": 4,
   "metadata": {
    "collapsed": true
   },
   "outputs": [],
   "source": [
    "dframe=xlsfile.parse('Sheet1')"
   ]
  },
  {
   "cell_type": "code",
   "execution_count": 5,
   "metadata": {
    "collapsed": false
   },
   "outputs": [
    {
     "data": {
      "text/html": [
       "<div>\n",
       "<table border=\"1\" class=\"dataframe\">\n",
       "  <thead>\n",
       "    <tr style=\"text-align: right;\">\n",
       "      <th></th>\n",
       "      <th>Current Salary</th>\n",
       "      <th>Merit Increase</th>\n",
       "      <th>New Salary after Merit Increase</th>\n",
       "      <th>Unnamed: 3</th>\n",
       "      <th>Salary Grade Increase</th>\n",
       "      <th>Increase On Current Salary</th>\n",
       "      <th>Increase On New salary</th>\n",
       "      <th>Difference</th>\n",
       "    </tr>\n",
       "  </thead>\n",
       "  <tbody>\n",
       "    <tr>\n",
       "      <th>0</th>\n",
       "      <td>39465.5</td>\n",
       "      <td>0.035</td>\n",
       "      <td>40846.80285</td>\n",
       "      <td>NaN</td>\n",
       "      <td>0.07</td>\n",
       "      <td>42228.0957</td>\n",
       "      <td>43706.07905</td>\n",
       "      <td>1477.983349</td>\n",
       "    </tr>\n",
       "    <tr>\n",
       "      <th>1</th>\n",
       "      <td>NaN</td>\n",
       "      <td>NaN</td>\n",
       "      <td>NaN</td>\n",
       "      <td>NaN</td>\n",
       "      <td>NaN</td>\n",
       "      <td>NaN</td>\n",
       "      <td>NaN</td>\n",
       "      <td>NaN</td>\n",
       "    </tr>\n",
       "    <tr>\n",
       "      <th>2</th>\n",
       "      <td>NaN</td>\n",
       "      <td>NaN</td>\n",
       "      <td>NaN</td>\n",
       "      <td>NaN</td>\n",
       "      <td>NaN</td>\n",
       "      <td>NaN</td>\n",
       "      <td>NaN</td>\n",
       "      <td>NaN</td>\n",
       "    </tr>\n",
       "    <tr>\n",
       "      <th>3</th>\n",
       "      <td>Effective Raise</td>\n",
       "      <td>This  is the value of the proposed salary for ...</td>\n",
       "      <td>NaN</td>\n",
       "      <td>NaN</td>\n",
       "      <td>NaN</td>\n",
       "      <td>NaN</td>\n",
       "      <td>NaN</td>\n",
       "      <td>NaN</td>\n",
       "    </tr>\n",
       "    <tr>\n",
       "      <th>4</th>\n",
       "      <td>0.0338164</td>\n",
       "      <td>NaN</td>\n",
       "      <td>NaN</td>\n",
       "      <td>NaN</td>\n",
       "      <td>NaN</td>\n",
       "      <td>NaN</td>\n",
       "      <td>NaN</td>\n",
       "      <td>NaN</td>\n",
       "    </tr>\n",
       "    <tr>\n",
       "      <th>5</th>\n",
       "      <td>NaN</td>\n",
       "      <td>NaN</td>\n",
       "      <td>NaN</td>\n",
       "      <td>NaN</td>\n",
       "      <td>NaN</td>\n",
       "      <td>NaN</td>\n",
       "      <td>NaN</td>\n",
       "      <td>NaN</td>\n",
       "    </tr>\n",
       "    <tr>\n",
       "      <th>6</th>\n",
       "      <td>Target Raise on Current Salary</td>\n",
       "      <td>This is the % raise I would require on my old ...</td>\n",
       "      <td>NaN</td>\n",
       "      <td>NaN</td>\n",
       "      <td>NaN</td>\n",
       "      <td>NaN</td>\n",
       "      <td>NaN</td>\n",
       "      <td>NaN</td>\n",
       "    </tr>\n",
       "    <tr>\n",
       "      <th>7</th>\n",
       "      <td>0.10745</td>\n",
       "      <td>NaN</td>\n",
       "      <td>NaN</td>\n",
       "      <td>NaN</td>\n",
       "      <td>NaN</td>\n",
       "      <td>NaN</td>\n",
       "      <td>NaN</td>\n",
       "      <td>NaN</td>\n",
       "    </tr>\n",
       "  </tbody>\n",
       "</table>\n",
       "</div>"
      ],
      "text/plain": [
       "                    Current Salary  \\\n",
       "0                          39465.5   \n",
       "1                              NaN   \n",
       "2                              NaN   \n",
       "3                  Effective Raise   \n",
       "4                        0.0338164   \n",
       "5                              NaN   \n",
       "6  Target Raise on Current Salary    \n",
       "7                          0.10745   \n",
       "\n",
       "                                      Merit Increase  \\\n",
       "0                                              0.035   \n",
       "1                                                NaN   \n",
       "2                                                NaN   \n",
       "3  This  is the value of the proposed salary for ...   \n",
       "4                                                NaN   \n",
       "5                                                NaN   \n",
       "6  This is the % raise I would require on my old ...   \n",
       "7                                                NaN   \n",
       "\n",
       "   New Salary after Merit Increase  Unnamed: 3  Salary Grade Increase  \\\n",
       "0                      40846.80285         NaN                   0.07   \n",
       "1                              NaN         NaN                    NaN   \n",
       "2                              NaN         NaN                    NaN   \n",
       "3                              NaN         NaN                    NaN   \n",
       "4                              NaN         NaN                    NaN   \n",
       "5                              NaN         NaN                    NaN   \n",
       "6                              NaN         NaN                    NaN   \n",
       "7                              NaN         NaN                    NaN   \n",
       "\n",
       "   Increase On Current Salary  Increase On New salary   Difference  \n",
       "0                  42228.0957             43706.07905  1477.983349  \n",
       "1                         NaN                     NaN          NaN  \n",
       "2                         NaN                     NaN          NaN  \n",
       "3                         NaN                     NaN          NaN  \n",
       "4                         NaN                     NaN          NaN  \n",
       "5                         NaN                     NaN          NaN  \n",
       "6                         NaN                     NaN          NaN  \n",
       "7                         NaN                     NaN          NaN  "
      ]
     },
     "execution_count": 5,
     "metadata": {},
     "output_type": "execute_result"
    }
   ],
   "source": [
    "dframe"
   ]
  },
  {
   "cell_type": "code",
   "execution_count": null,
   "metadata": {
    "collapsed": true
   },
   "outputs": [],
   "source": []
  }
 ],
 "metadata": {
  "kernelspec": {
   "display_name": "Python 2",
   "language": "python",
   "name": "python2"
  },
  "language_info": {
   "codemirror_mode": {
    "name": "ipython",
    "version": 2
   },
   "file_extension": ".py",
   "mimetype": "text/x-python",
   "name": "python",
   "nbconvert_exporter": "python",
   "pygments_lexer": "ipython2",
   "version": "2.7.11"
  }
 },
 "nbformat": 4,
 "nbformat_minor": 0
}
