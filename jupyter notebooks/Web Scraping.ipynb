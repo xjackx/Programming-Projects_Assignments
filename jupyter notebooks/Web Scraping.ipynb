{
 "cells": [
  {
   "cell_type": "code",
   "execution_count": 1,
   "metadata": {
    "collapsed": true
   },
   "outputs": [],
   "source": [
    "from bs4 import BeautifulSoup\n",
    "import requests\n",
    "import pandas as pd\n",
    "from pandas import Series, DataFrame"
   ]
  },
  {
   "cell_type": "code",
   "execution_count": 2,
   "metadata": {
    "collapsed": true
   },
   "outputs": [],
   "source": [
    "url='http://www.ucop.edu/operating-budget/budgets-and-reports/legislative-reports/2013-14-legislative-session.html'\n"
   ]
  },
  {
   "cell_type": "code",
   "execution_count": 4,
   "metadata": {
    "collapsed": false
   },
   "outputs": [],
   "source": [
    "result=requests.get(url)\n",
    "c=result.content\n",
    "soup=BeautifulSoup(c,\"lxml\")"
   ]
  },
  {
   "cell_type": "code",
   "execution_count": 5,
   "metadata": {
    "collapsed": true
   },
   "outputs": [],
   "source": [
    "summary=soup.find('div',{'class':'list-land','id':'content'})\n",
    "tables =summary.find_all('table')"
   ]
  },
  {
   "cell_type": "code",
   "execution_count": 6,
   "metadata": {
    "collapsed": false
   },
   "outputs": [
    {
     "name": "stdout",
     "output_type": "stream",
     "text": [
      "1 08/01/13 2013-14 (EDU 92495) Proposed Capital Outlay Projects (2013-14 only) (pdf) 2 09/01/13 2014-15  (EDU 92495) Proposed Capital Outlay Projects (pdf) 3 11/01/13 Utilization of Classroom and Teaching Laboratories (pdf) 4 11/01/13 Instruction and Research Space Summary & Analysis (pdf) 5 11/15/13 Statewide Energy Partnership Program (pdf) 6 11/30/13 2013-23 Capital Financial Plan (pdf) 7 11/30/13 Projects Savings Funded from Capital Outlay Bond Funds (pdf) 8 12/01/13 Streamlined Capital Projects Funded from Capital (pdf) 9 01/01/14 Annual General Obligation Bonds Accountability (pdf) 10 01/01/14 Small Business Utilization (pdf) 11 01/01/14 Institutional Financial Aid Programs - Preliminary report (pdf) 12 01/10/14 Summer Enrollment (pdf) 13 01/15/14 Contracting Out for Services at Newly Developed Facilities (pdf) 14 03/01/14 Performance Measures (pdf) 15 03/01/14 Entry Level Writing Requirement (pdf) 16 03/31/14 Annual Report on Student Financial Support (pdf) 17 04/01/14 Unique Statewide Pupil Identifier (pdf) 18 04/01/14 Riverside School of Medicine (pdf) 19 04/01/14 SAPEP Funds and Outcomes - N/A 20 05/15/14 Receipt and Use of Lottery Funds (pdf) 21 07/01/14 Cogeneration and Energy Consv Major Capital Projects (pdf) \n",
      "\n",
      "\n",
      " Future Reports \n",
      "24 12- Breast Cancer Research Fund 25 12-31-15 Cigarette and Tobacco Products Surtax Research Program 26 01-01-16 Best Value Program 27 01-01-16 California Subject Matter Programs 28 04-01-16 COSMOS Program Outcomes\n"
     ]
    }
   ],
   "source": [
    "data=[]\n",
    "rows = tables[0].findAll('tr')\n",
    "for tr in rows:\n",
    "    cols =tr.findAll('td')\n",
    "    for td in cols:\n",
    "        text=td.find(text=True)\n",
    "        print text,\n",
    "        data.append(text)"
   ]
  },
  {
   "cell_type": "code",
   "execution_count": 7,
   "metadata": {
    "collapsed": false
   },
   "outputs": [
    {
     "name": "stdout",
     "output_type": "stream",
     "text": [
      "[u'1', u'08/01/13', u'2013-14 (EDU 92495) Proposed Capital Outlay Projects (2013-14 only) (pdf)', u'2', u'09/01/13', u'2014-15\\xa0 (EDU 92495) Proposed Capital Outlay Projects (pdf)', u'3', u'11/01/13', u'Utilization of Classroom and Teaching Laboratories (pdf)', u'4', u'11/01/13', u'Instruction and Research Space Summary & Analysis (pdf)', u'5', u'11/15/13', u'Statewide Energy Partnership Program (pdf)', u'6', u'11/30/13', u'2013-23 Capital Financial Plan (pdf)', u'7', u'11/30/13', u'Projects Savings Funded from Capital Outlay Bond Funds (pdf)', u'8', u'12/01/13', u'Streamlined Capital Projects Funded from Capital (pdf)', u'9', u'01/01/14', u'Annual General Obligation Bonds Accountability (pdf)', u'10', u'01/01/14', u'Small Business Utilization (pdf)', u'11', u'01/01/14', u'Institutional Financial Aid Programs - Preliminary report (pdf)', u'12', u'01/10/14', u'Summer Enrollment (pdf)', u'13', u'01/15/14', u'Contracting Out for Services at Newly Developed Facilities (pdf)', u'14', u'03/01/14', u'Performance Measures (pdf)', u'15', u'03/01/14', u'Entry Level Writing Requirement (pdf)', u'16', u'03/31/14', u'Annual Report on Student\\xa0Financial Support (pdf)', u'17', u'04/01/14', u'Unique Statewide Pupil Identifier (pdf)', u'18', u'04/01/14', u'Riverside School of Medicine (pdf)', u'19', u'04/01/14', u'SAPEP Funds and Outcomes - N/A', u'20', u'05/15/14', u'Receipt and Use of Lottery Funds (pdf)', u'21', u'07/01/14', u'Cogeneration and Energy Consv Major Capital Projects (pdf)', u'\\n', u'\\n', u'\\n', u'\\xa0', u'Future Reports', u'\\n', u'24', u'12-', u'Breast Cancer Research Fund', u'25', u'12-31-15', u'Cigarette and Tobacco Products Surtax Research Program', u'26', u'01-01-16', u'Best Value Program', u'27', u'01-01-16', u'California Subject Matter Programs', u'28', u'04-01-16', u'COSMOS Program Outcomes']\n"
     ]
    }
   ],
   "source": [
    "print data"
   ]
  },
  {
   "cell_type": "code",
   "execution_count": 8,
   "metadata": {
    "collapsed": true
   },
   "outputs": [],
   "source": [
    "reports=[]\n",
    "date=[]\n",
    "index = 0\n",
    "for item in data:\n",
    "    if 'pdf' in item:\n",
    "        date.append(data[index-1])\n",
    "        reports.append(item.replace(u'\\xa0',u''))\n",
    "    index+=1"
   ]
  },
  {
   "cell_type": "code",
   "execution_count": 9,
   "metadata": {
    "collapsed": true
   },
   "outputs": [],
   "source": [
    "date = Series(date)\n",
    "reports = Series(reports)"
   ]
  },
  {
   "cell_type": "code",
   "execution_count": 11,
   "metadata": {
    "collapsed": true
   },
   "outputs": [],
   "source": [
    "legislative_df=pd.concat([date,reports],axis=1)"
   ]
  },
  {
   "cell_type": "code",
   "execution_count": 13,
   "metadata": {
    "collapsed": false
   },
   "outputs": [],
   "source": [
    "legislative_df.columns=['Date','Report']"
   ]
  },
  {
   "cell_type": "code",
   "execution_count": 15,
   "metadata": {
    "collapsed": false
   },
   "outputs": [
    {
     "data": {
      "text/html": [
       "<div>\n",
       "<table border=\"1\" class=\"dataframe\">\n",
       "  <thead>\n",
       "    <tr style=\"text-align: right;\">\n",
       "      <th></th>\n",
       "      <th>Date</th>\n",
       "      <th>Report</th>\n",
       "    </tr>\n",
       "  </thead>\n",
       "  <tbody>\n",
       "    <tr>\n",
       "      <th>0</th>\n",
       "      <td>08/01/13</td>\n",
       "      <td>2013-14 (EDU 92495) Proposed Capital Outlay Pr...</td>\n",
       "    </tr>\n",
       "    <tr>\n",
       "      <th>1</th>\n",
       "      <td>09/01/13</td>\n",
       "      <td>2014-15 (EDU 92495) Proposed Capital Outlay Pr...</td>\n",
       "    </tr>\n",
       "    <tr>\n",
       "      <th>2</th>\n",
       "      <td>11/01/13</td>\n",
       "      <td>Utilization of Classroom and Teaching Laborato...</td>\n",
       "    </tr>\n",
       "    <tr>\n",
       "      <th>3</th>\n",
       "      <td>11/01/13</td>\n",
       "      <td>Instruction and Research Space Summary &amp; Analy...</td>\n",
       "    </tr>\n",
       "    <tr>\n",
       "      <th>4</th>\n",
       "      <td>11/15/13</td>\n",
       "      <td>Statewide Energy Partnership Program (pdf)</td>\n",
       "    </tr>\n",
       "    <tr>\n",
       "      <th>5</th>\n",
       "      <td>11/30/13</td>\n",
       "      <td>2013-23 Capital Financial Plan (pdf)</td>\n",
       "    </tr>\n",
       "    <tr>\n",
       "      <th>6</th>\n",
       "      <td>11/30/13</td>\n",
       "      <td>Projects Savings Funded from Capital Outlay Bo...</td>\n",
       "    </tr>\n",
       "    <tr>\n",
       "      <th>7</th>\n",
       "      <td>12/01/13</td>\n",
       "      <td>Streamlined Capital Projects Funded from Capit...</td>\n",
       "    </tr>\n",
       "    <tr>\n",
       "      <th>8</th>\n",
       "      <td>01/01/14</td>\n",
       "      <td>Annual General Obligation Bonds Accountability...</td>\n",
       "    </tr>\n",
       "    <tr>\n",
       "      <th>9</th>\n",
       "      <td>01/01/14</td>\n",
       "      <td>Small Business Utilization (pdf)</td>\n",
       "    </tr>\n",
       "    <tr>\n",
       "      <th>10</th>\n",
       "      <td>01/01/14</td>\n",
       "      <td>Institutional Financial Aid Programs - Prelimi...</td>\n",
       "    </tr>\n",
       "    <tr>\n",
       "      <th>11</th>\n",
       "      <td>01/10/14</td>\n",
       "      <td>Summer Enrollment (pdf)</td>\n",
       "    </tr>\n",
       "    <tr>\n",
       "      <th>12</th>\n",
       "      <td>01/15/14</td>\n",
       "      <td>Contracting Out for Services at Newly Develope...</td>\n",
       "    </tr>\n",
       "    <tr>\n",
       "      <th>13</th>\n",
       "      <td>03/01/14</td>\n",
       "      <td>Performance Measures (pdf)</td>\n",
       "    </tr>\n",
       "    <tr>\n",
       "      <th>14</th>\n",
       "      <td>03/01/14</td>\n",
       "      <td>Entry Level Writing Requirement (pdf)</td>\n",
       "    </tr>\n",
       "    <tr>\n",
       "      <th>15</th>\n",
       "      <td>03/31/14</td>\n",
       "      <td>Annual Report on StudentFinancial Support (pdf)</td>\n",
       "    </tr>\n",
       "    <tr>\n",
       "      <th>16</th>\n",
       "      <td>04/01/14</td>\n",
       "      <td>Unique Statewide Pupil Identifier (pdf)</td>\n",
       "    </tr>\n",
       "    <tr>\n",
       "      <th>17</th>\n",
       "      <td>04/01/14</td>\n",
       "      <td>Riverside School of Medicine (pdf)</td>\n",
       "    </tr>\n",
       "    <tr>\n",
       "      <th>18</th>\n",
       "      <td>05/15/14</td>\n",
       "      <td>Receipt and Use of Lottery Funds (pdf)</td>\n",
       "    </tr>\n",
       "    <tr>\n",
       "      <th>19</th>\n",
       "      <td>07/01/14</td>\n",
       "      <td>Cogeneration and Energy Consv Major Capital Pr...</td>\n",
       "    </tr>\n",
       "  </tbody>\n",
       "</table>\n",
       "</div>"
      ],
      "text/plain": [
       "        Date                                             Report\n",
       "0   08/01/13  2013-14 (EDU 92495) Proposed Capital Outlay Pr...\n",
       "1   09/01/13  2014-15 (EDU 92495) Proposed Capital Outlay Pr...\n",
       "2   11/01/13  Utilization of Classroom and Teaching Laborato...\n",
       "3   11/01/13  Instruction and Research Space Summary & Analy...\n",
       "4   11/15/13         Statewide Energy Partnership Program (pdf)\n",
       "5   11/30/13               2013-23 Capital Financial Plan (pdf)\n",
       "6   11/30/13  Projects Savings Funded from Capital Outlay Bo...\n",
       "7   12/01/13  Streamlined Capital Projects Funded from Capit...\n",
       "8   01/01/14  Annual General Obligation Bonds Accountability...\n",
       "9   01/01/14                   Small Business Utilization (pdf)\n",
       "10  01/01/14  Institutional Financial Aid Programs - Prelimi...\n",
       "11  01/10/14                            Summer Enrollment (pdf)\n",
       "12  01/15/14  Contracting Out for Services at Newly Develope...\n",
       "13  03/01/14                         Performance Measures (pdf)\n",
       "14  03/01/14              Entry Level Writing Requirement (pdf)\n",
       "15  03/31/14    Annual Report on StudentFinancial Support (pdf)\n",
       "16  04/01/14            Unique Statewide Pupil Identifier (pdf)\n",
       "17  04/01/14                 Riverside School of Medicine (pdf)\n",
       "18  05/15/14             Receipt and Use of Lottery Funds (pdf)\n",
       "19  07/01/14  Cogeneration and Energy Consv Major Capital Pr..."
      ]
     },
     "execution_count": 15,
     "metadata": {},
     "output_type": "execute_result"
    }
   ],
   "source": [
    "legislative_df"
   ]
  },
  {
   "cell_type": "code",
   "execution_count": null,
   "metadata": {
    "collapsed": true
   },
   "outputs": [],
   "source": []
  }
 ],
 "metadata": {
  "kernelspec": {
   "display_name": "Python 2",
   "language": "python",
   "name": "python2"
  },
  "language_info": {
   "codemirror_mode": {
    "name": "ipython",
    "version": 2
   },
   "file_extension": ".py",
   "mimetype": "text/x-python",
   "name": "python",
   "nbconvert_exporter": "python",
   "pygments_lexer": "ipython2",
   "version": "2.7.11"
  }
 },
 "nbformat": 4,
 "nbformat_minor": 0
}
