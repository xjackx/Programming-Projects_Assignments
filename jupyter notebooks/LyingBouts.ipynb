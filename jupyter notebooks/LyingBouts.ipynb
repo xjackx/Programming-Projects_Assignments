{
 "cells": [
  {
   "cell_type": "code",
   "execution_count": 1,
   "metadata": {
    "collapsed": true
   },
   "outputs": [],
   "source": [
    "from __future__ import division\n",
    "import numpy as np\n",
    "import pandas as pd\n",
    "from pandas import Series,DataFrame\n",
    "from math import ceil"
   ]
  },
  {
   "cell_type": "code",
   "execution_count": 2,
   "metadata": {
    "collapsed": false
   },
   "outputs": [],
   "source": [
    "df=pd.read_csv(r'C:\\Users\\ranbir\\OneDrive - University of Stirling\\IceRobotics\\pyalgorithms\\data_requests\\_act_000.csv',header='infer',parse_dates=True,infer_datetime_format=True)"
   ]
  },
  {
   "cell_type": "code",
   "execution_count": 3,
   "metadata": {
    "collapsed": false
   },
   "outputs": [
    {
     "data": {
      "text/plain": [
       "subject            object\n",
       "start              object\n",
       "end                object\n",
       "mi                  int64\n",
       "steps               int64\n",
       "standing time      object\n",
       "lying time         object\n",
       "standing change     int64\n",
       "Stand Start         int64\n",
       "lying bouts         int64\n",
       "dtype: object"
      ]
     },
     "execution_count": 3,
     "metadata": {},
     "output_type": "execute_result"
    }
   ],
   "source": [
    "df.dtypes"
   ]
  },
  {
   "cell_type": "code",
   "execution_count": 4,
   "metadata": {
    "collapsed": false
   },
   "outputs": [
    {
     "data": {
      "text/html": [
       "<div>\n",
       "<table border=\"1\" class=\"dataframe\">\n",
       "  <thead>\n",
       "    <tr style=\"text-align: right;\">\n",
       "      <th></th>\n",
       "      <th>subject</th>\n",
       "      <th>start</th>\n",
       "      <th>end</th>\n",
       "      <th>mi</th>\n",
       "      <th>steps</th>\n",
       "      <th>standing time</th>\n",
       "      <th>lying time</th>\n",
       "      <th>standing change</th>\n",
       "      <th>Stand Start</th>\n",
       "      <th>lying bouts</th>\n",
       "    </tr>\n",
       "  </thead>\n",
       "  <tbody>\n",
       "    <tr>\n",
       "      <th>0</th>\n",
       "      <td>2609BL</td>\n",
       "      <td>2016-05-29 00:00:01+00:00</td>\n",
       "      <td>2016-05-29 00:15:01+00:00</td>\n",
       "      <td>0</td>\n",
       "      <td>0</td>\n",
       "      <td>00:00:00</td>\n",
       "      <td>00:15:00</td>\n",
       "      <td>0</td>\n",
       "      <td>0</td>\n",
       "      <td>0</td>\n",
       "    </tr>\n",
       "    <tr>\n",
       "      <th>1</th>\n",
       "      <td>2609BL</td>\n",
       "      <td>2016-05-29 00:15:01+00:00</td>\n",
       "      <td>2016-05-29 00:30:01+00:00</td>\n",
       "      <td>0</td>\n",
       "      <td>0</td>\n",
       "      <td>00:00:00</td>\n",
       "      <td>00:15:00</td>\n",
       "      <td>0</td>\n",
       "      <td>0</td>\n",
       "      <td>0</td>\n",
       "    </tr>\n",
       "    <tr>\n",
       "      <th>2</th>\n",
       "      <td>2609BL</td>\n",
       "      <td>2016-05-29 00:30:01+00:00</td>\n",
       "      <td>2016-05-29 00:45:01+00:00</td>\n",
       "      <td>0</td>\n",
       "      <td>0</td>\n",
       "      <td>00:00:00</td>\n",
       "      <td>00:15:00</td>\n",
       "      <td>0</td>\n",
       "      <td>0</td>\n",
       "      <td>0</td>\n",
       "    </tr>\n",
       "    <tr>\n",
       "      <th>3</th>\n",
       "      <td>2609BL</td>\n",
       "      <td>2016-05-29 00:45:01+00:00</td>\n",
       "      <td>2016-05-29 01:00:01+00:00</td>\n",
       "      <td>0</td>\n",
       "      <td>0</td>\n",
       "      <td>00:00:00</td>\n",
       "      <td>00:15:00</td>\n",
       "      <td>0</td>\n",
       "      <td>0</td>\n",
       "      <td>0</td>\n",
       "    </tr>\n",
       "    <tr>\n",
       "      <th>4</th>\n",
       "      <td>2609BL</td>\n",
       "      <td>2016-05-29 01:00:01+00:00</td>\n",
       "      <td>2016-05-29 01:15:01+00:00</td>\n",
       "      <td>0</td>\n",
       "      <td>0</td>\n",
       "      <td>00:00:00</td>\n",
       "      <td>00:15:00</td>\n",
       "      <td>0</td>\n",
       "      <td>0</td>\n",
       "      <td>0</td>\n",
       "    </tr>\n",
       "  </tbody>\n",
       "</table>\n",
       "</div>"
      ],
      "text/plain": [
       "  subject                      start                        end  mi  steps  \\\n",
       "0  2609BL  2016-05-29 00:00:01+00:00  2016-05-29 00:15:01+00:00   0      0   \n",
       "1  2609BL  2016-05-29 00:15:01+00:00  2016-05-29 00:30:01+00:00   0      0   \n",
       "2  2609BL  2016-05-29 00:30:01+00:00  2016-05-29 00:45:01+00:00   0      0   \n",
       "3  2609BL  2016-05-29 00:45:01+00:00  2016-05-29 01:00:01+00:00   0      0   \n",
       "4  2609BL  2016-05-29 01:00:01+00:00  2016-05-29 01:15:01+00:00   0      0   \n",
       "\n",
       "  standing time lying time  standing change  Stand Start  lying bouts  \n",
       "0      00:00:00   00:15:00                0            0            0  \n",
       "1      00:00:00   00:15:00                0            0            0  \n",
       "2      00:00:00   00:15:00                0            0            0  \n",
       "3      00:00:00   00:15:00                0            0            0  \n",
       "4      00:00:00   00:15:00                0            0            0  "
      ]
     },
     "execution_count": 4,
     "metadata": {},
     "output_type": "execute_result"
    }
   ],
   "source": [
    "df.head()"
   ]
  },
  {
   "cell_type": "code",
   "execution_count": 5,
   "metadata": {
    "collapsed": true
   },
   "outputs": [],
   "source": [
    "#delete lying bouts- was created while testing a formula in excel\n",
    "del df['lying bouts']"
   ]
  },
  {
   "cell_type": "code",
   "execution_count": 6,
   "metadata": {
    "collapsed": false
   },
   "outputs": [
    {
     "data": {
      "text/html": [
       "<div>\n",
       "<table border=\"1\" class=\"dataframe\">\n",
       "  <thead>\n",
       "    <tr style=\"text-align: right;\">\n",
       "      <th></th>\n",
       "      <th>subject</th>\n",
       "      <th>start</th>\n",
       "      <th>end</th>\n",
       "      <th>mi</th>\n",
       "      <th>steps</th>\n",
       "      <th>standing time</th>\n",
       "      <th>lying time</th>\n",
       "      <th>standing change</th>\n",
       "      <th>Stand Start</th>\n",
       "    </tr>\n",
       "  </thead>\n",
       "  <tbody>\n",
       "    <tr>\n",
       "      <th>0</th>\n",
       "      <td>2609BL</td>\n",
       "      <td>2016-05-29 00:00:01+00:00</td>\n",
       "      <td>2016-05-29 00:15:01+00:00</td>\n",
       "      <td>0</td>\n",
       "      <td>0</td>\n",
       "      <td>00:00:00</td>\n",
       "      <td>00:15:00</td>\n",
       "      <td>0</td>\n",
       "      <td>0</td>\n",
       "    </tr>\n",
       "    <tr>\n",
       "      <th>1</th>\n",
       "      <td>2609BL</td>\n",
       "      <td>2016-05-29 00:15:01+00:00</td>\n",
       "      <td>2016-05-29 00:30:01+00:00</td>\n",
       "      <td>0</td>\n",
       "      <td>0</td>\n",
       "      <td>00:00:00</td>\n",
       "      <td>00:15:00</td>\n",
       "      <td>0</td>\n",
       "      <td>0</td>\n",
       "    </tr>\n",
       "    <tr>\n",
       "      <th>2</th>\n",
       "      <td>2609BL</td>\n",
       "      <td>2016-05-29 00:30:01+00:00</td>\n",
       "      <td>2016-05-29 00:45:01+00:00</td>\n",
       "      <td>0</td>\n",
       "      <td>0</td>\n",
       "      <td>00:00:00</td>\n",
       "      <td>00:15:00</td>\n",
       "      <td>0</td>\n",
       "      <td>0</td>\n",
       "    </tr>\n",
       "    <tr>\n",
       "      <th>3</th>\n",
       "      <td>2609BL</td>\n",
       "      <td>2016-05-29 00:45:01+00:00</td>\n",
       "      <td>2016-05-29 01:00:01+00:00</td>\n",
       "      <td>0</td>\n",
       "      <td>0</td>\n",
       "      <td>00:00:00</td>\n",
       "      <td>00:15:00</td>\n",
       "      <td>0</td>\n",
       "      <td>0</td>\n",
       "    </tr>\n",
       "    <tr>\n",
       "      <th>4</th>\n",
       "      <td>2609BL</td>\n",
       "      <td>2016-05-29 01:00:01+00:00</td>\n",
       "      <td>2016-05-29 01:15:01+00:00</td>\n",
       "      <td>0</td>\n",
       "      <td>0</td>\n",
       "      <td>00:00:00</td>\n",
       "      <td>00:15:00</td>\n",
       "      <td>0</td>\n",
       "      <td>0</td>\n",
       "    </tr>\n",
       "  </tbody>\n",
       "</table>\n",
       "</div>"
      ],
      "text/plain": [
       "  subject                      start                        end  mi  steps  \\\n",
       "0  2609BL  2016-05-29 00:00:01+00:00  2016-05-29 00:15:01+00:00   0      0   \n",
       "1  2609BL  2016-05-29 00:15:01+00:00  2016-05-29 00:30:01+00:00   0      0   \n",
       "2  2609BL  2016-05-29 00:30:01+00:00  2016-05-29 00:45:01+00:00   0      0   \n",
       "3  2609BL  2016-05-29 00:45:01+00:00  2016-05-29 01:00:01+00:00   0      0   \n",
       "4  2609BL  2016-05-29 01:00:01+00:00  2016-05-29 01:15:01+00:00   0      0   \n",
       "\n",
       "  standing time lying time  standing change  Stand Start  \n",
       "0      00:00:00   00:15:00                0            0  \n",
       "1      00:00:00   00:15:00                0            0  \n",
       "2      00:00:00   00:15:00                0            0  \n",
       "3      00:00:00   00:15:00                0            0  \n",
       "4      00:00:00   00:15:00                0            0  "
      ]
     },
     "execution_count": 6,
     "metadata": {},
     "output_type": "execute_result"
    }
   ],
   "source": [
    "df.head()"
   ]
  },
  {
   "cell_type": "markdown",
   "metadata": {},
   "source": [
    "<img src=\"lyingbouts.png\" width=\"400\",height=\"400\">"
   ]
  },
  {
   "cell_type": "code",
   "execution_count": 9,
   "metadata": {
    "collapsed": false
   },
   "outputs": [],
   "source": [
    "#calculate the lying bouts based on 'Stand Start' and number of transitions - 'standing change'\n",
    "def lying_bouts(stdStart,stdChange):\n",
    "    #case:lying down for the whole 15:00 mins\n",
    "    if stdStart == 0 and stdChange == 0:\n",
    "        return 1\n",
    "    #case:standing for the whole 15:00 mins\n",
    "    elif stdStart == 1 and stdChange == 0:\n",
    "        return 0\n",
    "    #case: even no. of transitions in the 15:00 mins\n",
    "    elif stdChange%2==0:\n",
    "        #case: intially lying down - add 1 \n",
    "        if stdStart == 0:\n",
    "            return stdChange/2+1\n",
    "        #case: intially standing - round up lying_bouts\n",
    "        else:\n",
    "            return ceil(stdChange/2)\n",
    "    #case: odd no. of transitions in the 15:00 mins\n",
    "    else:\n",
    "        return ceil(stdChange/2)\n",
    "        \n",
    "        "
   ]
  },
  {
   "cell_type": "code",
   "execution_count": 18,
   "metadata": {
    "collapsed": false
   },
   "outputs": [
    {
     "name": "stdout",
     "output_type": "stream",
     "text": [
      "0 initial, 0 transitions: 1 lying bouts\n",
      "1 initial, 0 transitions: 0 lying bouts\n",
      "0 initial, even transitions: 3.0 lying bouts\n",
      "0 initial, odd transitions: 2.0 lying bouts\n",
      "1 initial, even transitions: 2.0 lying bouts\n",
      "1 initial, odd transitions: 2.0 lying bouts\n"
     ]
    }
   ],
   "source": [
    "print \"0 initial, 0 transitions:\",lying_bouts(0,0),\"lying bouts\"\n",
    "print \"1 initial, 0 transitions:\",lying_bouts(1,0),\"lying bouts\"\n",
    "print \"0 initial, even transitions:\",lying_bouts(0,4),\"lying bouts\"\n",
    "print \"0 initial, odd transitions:\",lying_bouts(0,3),\"lying bouts\"\n",
    "print \"1 initial, even transitions:\",lying_bouts(1,4),\"lying bouts\"\n",
    "print \"1 initial, odd transitions:\",lying_bouts(1,3),\"lying bouts\""
   ]
  },
  {
   "cell_type": "code",
   "execution_count": 16,
   "metadata": {
    "collapsed": false,
    "scrolled": true
   },
   "outputs": [],
   "source": [
    "df['lying bouts']=df.apply(lambda row:lying_bouts(row['Initial State'],row['standing change']),axis=1)"
   ]
  },
  {
   "cell_type": "code",
   "execution_count": 17,
   "metadata": {
    "collapsed": false
   },
   "outputs": [
    {
     "data": {
      "text/html": [
       "<div>\n",
       "<table border=\"1\" class=\"dataframe\">\n",
       "  <thead>\n",
       "    <tr style=\"text-align: right;\">\n",
       "      <th></th>\n",
       "      <th>subject</th>\n",
       "      <th>start</th>\n",
       "      <th>end</th>\n",
       "      <th>mi</th>\n",
       "      <th>steps</th>\n",
       "      <th>standing time</th>\n",
       "      <th>lying time</th>\n",
       "      <th>standing change</th>\n",
       "      <th>Initial State</th>\n",
       "      <th>lying bouts</th>\n",
       "    </tr>\n",
       "  </thead>\n",
       "  <tbody>\n",
       "    <tr>\n",
       "      <th>0</th>\n",
       "      <td>2609BL</td>\n",
       "      <td>2016-05-29 00:00:01+00:00</td>\n",
       "      <td>2016-05-29 00:15:01+00:00</td>\n",
       "      <td>0</td>\n",
       "      <td>0</td>\n",
       "      <td>00:00:00</td>\n",
       "      <td>00:15:00</td>\n",
       "      <td>0</td>\n",
       "      <td>0</td>\n",
       "      <td>1.0</td>\n",
       "    </tr>\n",
       "    <tr>\n",
       "      <th>1</th>\n",
       "      <td>2609BL</td>\n",
       "      <td>2016-05-29 00:15:01+00:00</td>\n",
       "      <td>2016-05-29 00:30:01+00:00</td>\n",
       "      <td>0</td>\n",
       "      <td>0</td>\n",
       "      <td>00:00:00</td>\n",
       "      <td>00:15:00</td>\n",
       "      <td>0</td>\n",
       "      <td>0</td>\n",
       "      <td>1.0</td>\n",
       "    </tr>\n",
       "    <tr>\n",
       "      <th>2</th>\n",
       "      <td>2609BL</td>\n",
       "      <td>2016-05-29 00:30:01+00:00</td>\n",
       "      <td>2016-05-29 00:45:01+00:00</td>\n",
       "      <td>0</td>\n",
       "      <td>0</td>\n",
       "      <td>00:00:00</td>\n",
       "      <td>00:15:00</td>\n",
       "      <td>0</td>\n",
       "      <td>0</td>\n",
       "      <td>1.0</td>\n",
       "    </tr>\n",
       "    <tr>\n",
       "      <th>3</th>\n",
       "      <td>2609BL</td>\n",
       "      <td>2016-05-29 00:45:01+00:00</td>\n",
       "      <td>2016-05-29 01:00:01+00:00</td>\n",
       "      <td>0</td>\n",
       "      <td>0</td>\n",
       "      <td>00:00:00</td>\n",
       "      <td>00:15:00</td>\n",
       "      <td>0</td>\n",
       "      <td>0</td>\n",
       "      <td>1.0</td>\n",
       "    </tr>\n",
       "    <tr>\n",
       "      <th>4</th>\n",
       "      <td>2609BL</td>\n",
       "      <td>2016-05-29 01:00:01+00:00</td>\n",
       "      <td>2016-05-29 01:15:01+00:00</td>\n",
       "      <td>0</td>\n",
       "      <td>0</td>\n",
       "      <td>00:00:00</td>\n",
       "      <td>00:15:00</td>\n",
       "      <td>0</td>\n",
       "      <td>0</td>\n",
       "      <td>1.0</td>\n",
       "    </tr>\n",
       "  </tbody>\n",
       "</table>\n",
       "</div>"
      ],
      "text/plain": [
       "  subject                      start                        end  mi  steps  \\\n",
       "0  2609BL  2016-05-29 00:00:01+00:00  2016-05-29 00:15:01+00:00   0      0   \n",
       "1  2609BL  2016-05-29 00:15:01+00:00  2016-05-29 00:30:01+00:00   0      0   \n",
       "2  2609BL  2016-05-29 00:30:01+00:00  2016-05-29 00:45:01+00:00   0      0   \n",
       "3  2609BL  2016-05-29 00:45:01+00:00  2016-05-29 01:00:01+00:00   0      0   \n",
       "4  2609BL  2016-05-29 01:00:01+00:00  2016-05-29 01:15:01+00:00   0      0   \n",
       "\n",
       "  standing time lying time  standing change  Initial State  lying bouts  \n",
       "0      00:00:00   00:15:00                0              0          1.0  \n",
       "1      00:00:00   00:15:00                0              0          1.0  \n",
       "2      00:00:00   00:15:00                0              0          1.0  \n",
       "3      00:00:00   00:15:00                0              0          1.0  \n",
       "4      00:00:00   00:15:00                0              0          1.0  "
      ]
     },
     "execution_count": 17,
     "metadata": {},
     "output_type": "execute_result"
    }
   ],
   "source": [
    "df.head()"
   ]
  },
  {
   "cell_type": "code",
   "execution_count": null,
   "metadata": {
    "collapsed": true
   },
   "outputs": [],
   "source": []
  }
 ],
 "metadata": {
  "anaconda-cloud": {},
  "kernelspec": {
   "display_name": "Python [Root]",
   "language": "python",
   "name": "Python [Root]"
  },
  "language_info": {
   "codemirror_mode": {
    "name": "ipython",
    "version": 2
   },
   "file_extension": ".py",
   "mimetype": "text/x-python",
   "name": "python",
   "nbconvert_exporter": "python",
   "pygments_lexer": "ipython2",
   "version": "2.7.11"
  }
 },
 "nbformat": 4,
 "nbformat_minor": 0
}
