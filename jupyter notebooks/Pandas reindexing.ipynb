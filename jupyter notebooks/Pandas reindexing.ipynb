{
 "cells": [
  {
   "cell_type": "code",
   "execution_count": 2,
   "metadata": {
    "collapsed": true
   },
   "outputs": [],
   "source": [
    "import numpy as np\n",
    "import pandas as pd\n",
    "from pandas import Series,DataFrame\n",
    "from numpy.random import randn"
   ]
  },
  {
   "cell_type": "code",
   "execution_count": 4,
   "metadata": {
    "collapsed": false
   },
   "outputs": [
    {
     "data": {
      "text/plain": [
       "A    1\n",
       "B    2\n",
       "C    3\n",
       "D    4\n",
       "dtype: int64"
      ]
     },
     "execution_count": 4,
     "metadata": {},
     "output_type": "execute_result"
    }
   ],
   "source": [
    "ser1=Series([1,2,3,4],index=['A','B','C','D'])\n",
    "ser1"
   ]
  },
  {
   "cell_type": "code",
   "execution_count": 5,
   "metadata": {
    "collapsed": false
   },
   "outputs": [
    {
     "data": {
      "text/plain": [
       "A     1\n",
       "B     2\n",
       "C     3\n",
       "D     4\n",
       "E   NaN\n",
       "F   NaN\n",
       "dtype: float64"
      ]
     },
     "execution_count": 5,
     "metadata": {},
     "output_type": "execute_result"
    }
   ],
   "source": [
    "ser2=ser1.reindex(['A','B','C','D','E','F'])\n",
    "ser2"
   ]
  },
  {
   "cell_type": "code",
   "execution_count": 7,
   "metadata": {
    "collapsed": false
   },
   "outputs": [
    {
     "data": {
      "text/plain": [
       "A     1\n",
       "B     2\n",
       "C     3\n",
       "D     4\n",
       "E   NaN\n",
       "F   NaN\n",
       "G     0\n",
       "dtype: float64"
      ]
     },
     "execution_count": 7,
     "metadata": {},
     "output_type": "execute_result"
    }
   ],
   "source": [
    "ser2.reindex(['A','B','C','D','E','F','G'],fill_value=0)"
   ]
  },
  {
   "cell_type": "code",
   "execution_count": 8,
   "metadata": {
    "collapsed": false
   },
   "outputs": [
    {
     "data": {
      "text/plain": [
       "A     1\n",
       "B     2\n",
       "C     3\n",
       "D     4\n",
       "E   NaN\n",
       "F   NaN\n",
       "dtype: float64"
      ]
     },
     "execution_count": 8,
     "metadata": {},
     "output_type": "execute_result"
    }
   ],
   "source": [
    "ser2"
   ]
  },
  {
   "cell_type": "code",
   "execution_count": 11,
   "metadata": {
    "collapsed": false
   },
   "outputs": [
    {
     "data": {
      "text/plain": [
       "0        USA\n",
       "5     Mexico\n",
       "10    Canada\n",
       "dtype: object"
      ]
     },
     "execution_count": 11,
     "metadata": {},
     "output_type": "execute_result"
    }
   ],
   "source": [
    "ser3=Series(['USA','Mexico','Canada'],index=[0,5,10])\n",
    "ser3"
   ]
  },
  {
   "cell_type": "code",
   "execution_count": 15,
   "metadata": {
    "collapsed": false
   },
   "outputs": [
    {
     "data": {
      "text/plain": [
       "0        USA\n",
       "1        USA\n",
       "2        USA\n",
       "3        USA\n",
       "4        USA\n",
       "5     Mexico\n",
       "6     Mexico\n",
       "7     Mexico\n",
       "8     Mexico\n",
       "9     Mexico\n",
       "10    Canada\n",
       "11    Canada\n",
       "12    Canada\n",
       "13    Canada\n",
       "14    Canada\n",
       "dtype: object"
      ]
     },
     "execution_count": 15,
     "metadata": {},
     "output_type": "execute_result"
    }
   ],
   "source": [
    "ser3.reindex(range(15),method='ffill')"
   ]
  },
  {
   "cell_type": "code",
   "execution_count": 17,
   "metadata": {
    "collapsed": false
   },
   "outputs": [
    {
     "data": {
      "text/html": [
       "<div>\n",
       "<table border=\"1\" class=\"dataframe\">\n",
       "  <thead>\n",
       "    <tr style=\"text-align: right;\">\n",
       "      <th></th>\n",
       "      <th>col1</th>\n",
       "      <th>col2</th>\n",
       "      <th>col3</th>\n",
       "      <th>col4</th>\n",
       "      <th>col5</th>\n",
       "    </tr>\n",
       "  </thead>\n",
       "  <tbody>\n",
       "    <tr>\n",
       "      <th>A</th>\n",
       "      <td>0.392885</td>\n",
       "      <td>0.592408</td>\n",
       "      <td>0.551248</td>\n",
       "      <td>-0.540232</td>\n",
       "      <td>1.164710</td>\n",
       "    </tr>\n",
       "    <tr>\n",
       "      <th>B</th>\n",
       "      <td>-0.293987</td>\n",
       "      <td>1.015472</td>\n",
       "      <td>0.587031</td>\n",
       "      <td>0.182744</td>\n",
       "      <td>1.454225</td>\n",
       "    </tr>\n",
       "    <tr>\n",
       "      <th>D</th>\n",
       "      <td>1.927036</td>\n",
       "      <td>-1.715347</td>\n",
       "      <td>0.770198</td>\n",
       "      <td>1.052816</td>\n",
       "      <td>0.200439</td>\n",
       "    </tr>\n",
       "    <tr>\n",
       "      <th>E</th>\n",
       "      <td>0.892633</td>\n",
       "      <td>0.570264</td>\n",
       "      <td>-1.677515</td>\n",
       "      <td>0.128483</td>\n",
       "      <td>-1.044300</td>\n",
       "    </tr>\n",
       "    <tr>\n",
       "      <th>F</th>\n",
       "      <td>0.567534</td>\n",
       "      <td>-1.226756</td>\n",
       "      <td>-0.431192</td>\n",
       "      <td>-0.899255</td>\n",
       "      <td>-2.206875</td>\n",
       "    </tr>\n",
       "  </tbody>\n",
       "</table>\n",
       "</div>"
      ],
      "text/plain": [
       "       col1      col2      col3      col4      col5\n",
       "A  0.392885  0.592408  0.551248 -0.540232  1.164710\n",
       "B -0.293987  1.015472  0.587031  0.182744  1.454225\n",
       "D  1.927036 -1.715347  0.770198  1.052816  0.200439\n",
       "E  0.892633  0.570264 -1.677515  0.128483 -1.044300\n",
       "F  0.567534 -1.226756 -0.431192 -0.899255 -2.206875"
      ]
     },
     "execution_count": 17,
     "metadata": {},
     "output_type": "execute_result"
    }
   ],
   "source": [
    "dframe=DataFrame(randn(25).reshape((5,5)),index=['A','B','D','E','F'],\n",
    "                 columns=['col1','col2','col3','col4','col5'])\n",
    "dframe"
   ]
  },
  {
   "cell_type": "code",
   "execution_count": 18,
   "metadata": {
    "collapsed": false
   },
   "outputs": [
    {
     "data": {
      "text/html": [
       "<div>\n",
       "<table border=\"1\" class=\"dataframe\">\n",
       "  <thead>\n",
       "    <tr style=\"text-align: right;\">\n",
       "      <th></th>\n",
       "      <th>col1</th>\n",
       "      <th>col2</th>\n",
       "      <th>col3</th>\n",
       "      <th>col4</th>\n",
       "      <th>col5</th>\n",
       "    </tr>\n",
       "  </thead>\n",
       "  <tbody>\n",
       "    <tr>\n",
       "      <th>A</th>\n",
       "      <td>0.392885</td>\n",
       "      <td>0.592408</td>\n",
       "      <td>0.551248</td>\n",
       "      <td>-0.540232</td>\n",
       "      <td>1.164710</td>\n",
       "    </tr>\n",
       "    <tr>\n",
       "      <th>B</th>\n",
       "      <td>-0.293987</td>\n",
       "      <td>1.015472</td>\n",
       "      <td>0.587031</td>\n",
       "      <td>0.182744</td>\n",
       "      <td>1.454225</td>\n",
       "    </tr>\n",
       "    <tr>\n",
       "      <th>C</th>\n",
       "      <td>NaN</td>\n",
       "      <td>NaN</td>\n",
       "      <td>NaN</td>\n",
       "      <td>NaN</td>\n",
       "      <td>NaN</td>\n",
       "    </tr>\n",
       "    <tr>\n",
       "      <th>D</th>\n",
       "      <td>1.927036</td>\n",
       "      <td>-1.715347</td>\n",
       "      <td>0.770198</td>\n",
       "      <td>1.052816</td>\n",
       "      <td>0.200439</td>\n",
       "    </tr>\n",
       "    <tr>\n",
       "      <th>E</th>\n",
       "      <td>0.892633</td>\n",
       "      <td>0.570264</td>\n",
       "      <td>-1.677515</td>\n",
       "      <td>0.128483</td>\n",
       "      <td>-1.044300</td>\n",
       "    </tr>\n",
       "    <tr>\n",
       "      <th>F</th>\n",
       "      <td>0.567534</td>\n",
       "      <td>-1.226756</td>\n",
       "      <td>-0.431192</td>\n",
       "      <td>-0.899255</td>\n",
       "      <td>-2.206875</td>\n",
       "    </tr>\n",
       "  </tbody>\n",
       "</table>\n",
       "</div>"
      ],
      "text/plain": [
       "       col1      col2      col3      col4      col5\n",
       "A  0.392885  0.592408  0.551248 -0.540232  1.164710\n",
       "B -0.293987  1.015472  0.587031  0.182744  1.454225\n",
       "C       NaN       NaN       NaN       NaN       NaN\n",
       "D  1.927036 -1.715347  0.770198  1.052816  0.200439\n",
       "E  0.892633  0.570264 -1.677515  0.128483 -1.044300\n",
       "F  0.567534 -1.226756 -0.431192 -0.899255 -2.206875"
      ]
     },
     "execution_count": 18,
     "metadata": {},
     "output_type": "execute_result"
    }
   ],
   "source": [
    "dframe2=dframe.reindex(['A','B','C','D','E','F'])\n",
    "dframe2"
   ]
  },
  {
   "cell_type": "code",
   "execution_count": 19,
   "metadata": {
    "collapsed": true
   },
   "outputs": [],
   "source": [
    "new_columns=['col1','col2','col3','col4','col5','col6']"
   ]
  },
  {
   "cell_type": "code",
   "execution_count": 20,
   "metadata": {
    "collapsed": false
   },
   "outputs": [
    {
     "data": {
      "text/html": [
       "<div>\n",
       "<table border=\"1\" class=\"dataframe\">\n",
       "  <thead>\n",
       "    <tr style=\"text-align: right;\">\n",
       "      <th></th>\n",
       "      <th>col1</th>\n",
       "      <th>col2</th>\n",
       "      <th>col3</th>\n",
       "      <th>col4</th>\n",
       "      <th>col5</th>\n",
       "      <th>col6</th>\n",
       "    </tr>\n",
       "  </thead>\n",
       "  <tbody>\n",
       "    <tr>\n",
       "      <th>A</th>\n",
       "      <td>0.392885</td>\n",
       "      <td>0.592408</td>\n",
       "      <td>0.551248</td>\n",
       "      <td>-0.540232</td>\n",
       "      <td>1.164710</td>\n",
       "      <td>NaN</td>\n",
       "    </tr>\n",
       "    <tr>\n",
       "      <th>B</th>\n",
       "      <td>-0.293987</td>\n",
       "      <td>1.015472</td>\n",
       "      <td>0.587031</td>\n",
       "      <td>0.182744</td>\n",
       "      <td>1.454225</td>\n",
       "      <td>NaN</td>\n",
       "    </tr>\n",
       "    <tr>\n",
       "      <th>C</th>\n",
       "      <td>NaN</td>\n",
       "      <td>NaN</td>\n",
       "      <td>NaN</td>\n",
       "      <td>NaN</td>\n",
       "      <td>NaN</td>\n",
       "      <td>NaN</td>\n",
       "    </tr>\n",
       "    <tr>\n",
       "      <th>D</th>\n",
       "      <td>1.927036</td>\n",
       "      <td>-1.715347</td>\n",
       "      <td>0.770198</td>\n",
       "      <td>1.052816</td>\n",
       "      <td>0.200439</td>\n",
       "      <td>NaN</td>\n",
       "    </tr>\n",
       "    <tr>\n",
       "      <th>E</th>\n",
       "      <td>0.892633</td>\n",
       "      <td>0.570264</td>\n",
       "      <td>-1.677515</td>\n",
       "      <td>0.128483</td>\n",
       "      <td>-1.044300</td>\n",
       "      <td>NaN</td>\n",
       "    </tr>\n",
       "    <tr>\n",
       "      <th>F</th>\n",
       "      <td>0.567534</td>\n",
       "      <td>-1.226756</td>\n",
       "      <td>-0.431192</td>\n",
       "      <td>-0.899255</td>\n",
       "      <td>-2.206875</td>\n",
       "      <td>NaN</td>\n",
       "    </tr>\n",
       "  </tbody>\n",
       "</table>\n",
       "</div>"
      ],
      "text/plain": [
       "       col1      col2      col3      col4      col5  col6\n",
       "A  0.392885  0.592408  0.551248 -0.540232  1.164710   NaN\n",
       "B -0.293987  1.015472  0.587031  0.182744  1.454225   NaN\n",
       "C       NaN       NaN       NaN       NaN       NaN   NaN\n",
       "D  1.927036 -1.715347  0.770198  1.052816  0.200439   NaN\n",
       "E  0.892633  0.570264 -1.677515  0.128483 -1.044300   NaN\n",
       "F  0.567534 -1.226756 -0.431192 -0.899255 -2.206875   NaN"
      ]
     },
     "execution_count": 20,
     "metadata": {},
     "output_type": "execute_result"
    }
   ],
   "source": [
    "dframe2.reindex(columns=new_columns)"
   ]
  },
  {
   "cell_type": "code",
   "execution_count": 21,
   "metadata": {
    "collapsed": false
   },
   "outputs": [
    {
     "data": {
      "text/html": [
       "<div>\n",
       "<table border=\"1\" class=\"dataframe\">\n",
       "  <thead>\n",
       "    <tr style=\"text-align: right;\">\n",
       "      <th></th>\n",
       "      <th>col1</th>\n",
       "      <th>col2</th>\n",
       "      <th>col3</th>\n",
       "      <th>col4</th>\n",
       "      <th>col5</th>\n",
       "    </tr>\n",
       "  </thead>\n",
       "  <tbody>\n",
       "    <tr>\n",
       "      <th>A</th>\n",
       "      <td>0.392885</td>\n",
       "      <td>0.592408</td>\n",
       "      <td>0.551248</td>\n",
       "      <td>-0.540232</td>\n",
       "      <td>1.164710</td>\n",
       "    </tr>\n",
       "    <tr>\n",
       "      <th>B</th>\n",
       "      <td>-0.293987</td>\n",
       "      <td>1.015472</td>\n",
       "      <td>0.587031</td>\n",
       "      <td>0.182744</td>\n",
       "      <td>1.454225</td>\n",
       "    </tr>\n",
       "    <tr>\n",
       "      <th>D</th>\n",
       "      <td>1.927036</td>\n",
       "      <td>-1.715347</td>\n",
       "      <td>0.770198</td>\n",
       "      <td>1.052816</td>\n",
       "      <td>0.200439</td>\n",
       "    </tr>\n",
       "    <tr>\n",
       "      <th>E</th>\n",
       "      <td>0.892633</td>\n",
       "      <td>0.570264</td>\n",
       "      <td>-1.677515</td>\n",
       "      <td>0.128483</td>\n",
       "      <td>-1.044300</td>\n",
       "    </tr>\n",
       "    <tr>\n",
       "      <th>F</th>\n",
       "      <td>0.567534</td>\n",
       "      <td>-1.226756</td>\n",
       "      <td>-0.431192</td>\n",
       "      <td>-0.899255</td>\n",
       "      <td>-2.206875</td>\n",
       "    </tr>\n",
       "  </tbody>\n",
       "</table>\n",
       "</div>"
      ],
      "text/plain": [
       "       col1      col2      col3      col4      col5\n",
       "A  0.392885  0.592408  0.551248 -0.540232  1.164710\n",
       "B -0.293987  1.015472  0.587031  0.182744  1.454225\n",
       "D  1.927036 -1.715347  0.770198  1.052816  0.200439\n",
       "E  0.892633  0.570264 -1.677515  0.128483 -1.044300\n",
       "F  0.567534 -1.226756 -0.431192 -0.899255 -2.206875"
      ]
     },
     "execution_count": 21,
     "metadata": {},
     "output_type": "execute_result"
    }
   ],
   "source": [
    "dframe"
   ]
  },
  {
   "cell_type": "code",
   "execution_count": 23,
   "metadata": {
    "collapsed": false
   },
   "outputs": [
    {
     "data": {
      "text/html": [
       "<div>\n",
       "<table border=\"1\" class=\"dataframe\">\n",
       "  <thead>\n",
       "    <tr style=\"text-align: right;\">\n",
       "      <th></th>\n",
       "      <th>col1</th>\n",
       "      <th>col2</th>\n",
       "      <th>col3</th>\n",
       "      <th>col4</th>\n",
       "      <th>col5</th>\n",
       "      <th>col6</th>\n",
       "    </tr>\n",
       "  </thead>\n",
       "  <tbody>\n",
       "    <tr>\n",
       "      <th>A</th>\n",
       "      <td>0.392885</td>\n",
       "      <td>0.592408</td>\n",
       "      <td>0.551248</td>\n",
       "      <td>-0.540232</td>\n",
       "      <td>1.164710</td>\n",
       "      <td>NaN</td>\n",
       "    </tr>\n",
       "    <tr>\n",
       "      <th>B</th>\n",
       "      <td>-0.293987</td>\n",
       "      <td>1.015472</td>\n",
       "      <td>0.587031</td>\n",
       "      <td>0.182744</td>\n",
       "      <td>1.454225</td>\n",
       "      <td>NaN</td>\n",
       "    </tr>\n",
       "    <tr>\n",
       "      <th>C</th>\n",
       "      <td>NaN</td>\n",
       "      <td>NaN</td>\n",
       "      <td>NaN</td>\n",
       "      <td>NaN</td>\n",
       "      <td>NaN</td>\n",
       "      <td>NaN</td>\n",
       "    </tr>\n",
       "    <tr>\n",
       "      <th>D</th>\n",
       "      <td>1.927036</td>\n",
       "      <td>-1.715347</td>\n",
       "      <td>0.770198</td>\n",
       "      <td>1.052816</td>\n",
       "      <td>0.200439</td>\n",
       "      <td>NaN</td>\n",
       "    </tr>\n",
       "    <tr>\n",
       "      <th>E</th>\n",
       "      <td>0.892633</td>\n",
       "      <td>0.570264</td>\n",
       "      <td>-1.677515</td>\n",
       "      <td>0.128483</td>\n",
       "      <td>-1.044300</td>\n",
       "      <td>NaN</td>\n",
       "    </tr>\n",
       "    <tr>\n",
       "      <th>F</th>\n",
       "      <td>0.567534</td>\n",
       "      <td>-1.226756</td>\n",
       "      <td>-0.431192</td>\n",
       "      <td>-0.899255</td>\n",
       "      <td>-2.206875</td>\n",
       "      <td>NaN</td>\n",
       "    </tr>\n",
       "  </tbody>\n",
       "</table>\n",
       "</div>"
      ],
      "text/plain": [
       "       col1      col2      col3      col4      col5  col6\n",
       "A  0.392885  0.592408  0.551248 -0.540232  1.164710   NaN\n",
       "B -0.293987  1.015472  0.587031  0.182744  1.454225   NaN\n",
       "C       NaN       NaN       NaN       NaN       NaN   NaN\n",
       "D  1.927036 -1.715347  0.770198  1.052816  0.200439   NaN\n",
       "E  0.892633  0.570264 -1.677515  0.128483 -1.044300   NaN\n",
       "F  0.567534 -1.226756 -0.431192 -0.899255 -2.206875   NaN"
      ]
     },
     "execution_count": 23,
     "metadata": {},
     "output_type": "execute_result"
    }
   ],
   "source": [
    "dframe.ix[['A','B','C','D','E','F'],new_columns]"
   ]
  },
  {
   "cell_type": "code",
   "execution_count": null,
   "metadata": {
    "collapsed": true
   },
   "outputs": [],
   "source": []
  }
 ],
 "metadata": {
  "kernelspec": {
   "display_name": "Python 2",
   "language": "python",
   "name": "python2"
  },
  "language_info": {
   "codemirror_mode": {
    "name": "ipython",
    "version": 2
   },
   "file_extension": ".py",
   "mimetype": "text/x-python",
   "name": "python",
   "nbconvert_exporter": "python",
   "pygments_lexer": "ipython2",
   "version": "2.7.11"
  }
 },
 "nbformat": 4,
 "nbformat_minor": 0
}
