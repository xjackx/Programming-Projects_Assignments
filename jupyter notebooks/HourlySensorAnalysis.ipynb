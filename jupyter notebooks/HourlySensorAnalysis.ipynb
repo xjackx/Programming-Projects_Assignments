{
 "cells": [
  {
   "cell_type": "code",
   "execution_count": 1,
   "metadata": {
    "collapsed": true
   },
   "outputs": [],
   "source": [
    "from __future__ import division\n",
    "import numpy as np\n",
    "import pandas as pd\n",
    "from pandas import Series,DataFrame\n",
    "import matplotlib.pyplot as plt\n",
    "from math import ceil,floor\n",
    "import seaborn as sns"
   ]
  },
  {
   "cell_type": "code",
   "execution_count": 2,
   "metadata": {
    "collapsed": true
   },
   "outputs": [],
   "source": [
    "%matplotlib inline"
   ]
  },
  {
   "cell_type": "code",
   "execution_count": 16,
   "metadata": {
    "collapsed": true
   },
   "outputs": [],
   "source": [
    "df=pd.read_csv(r'C:\\Users\\ranbir\\OneDrive - University of Stirling\\IceRobotics\\Data\\25_07\\hourly interval_25_07.csv',header='infer',dayfirst=True,parse_dates=True,infer_datetime_format=True)"
   ]
  },
  {
   "cell_type": "code",
   "execution_count": 17,
   "metadata": {
    "collapsed": false
   },
   "outputs": [
    {
     "data": {
      "text/plain": [
       "subject            object\n",
       "sensor_id          object\n",
       "hrs_to_calving      int64\n",
       "start              object\n",
       "mi                  int64\n",
       "steps               int64\n",
       "standing_time       int64\n",
       "lying_time          int64\n",
       "standing_change     int64\n",
       "lying_bouts         int64\n",
       "dtype: object"
      ]
     },
     "execution_count": 17,
     "metadata": {},
     "output_type": "execute_result"
    }
   ],
   "source": [
    "df.dtypes"
   ]
  },
  {
   "cell_type": "code",
   "execution_count": 18,
   "metadata": {
    "collapsed": false
   },
   "outputs": [
    {
     "data": {
      "text/html": [
       "<div>\n",
       "<table border=\"1\" class=\"dataframe\">\n",
       "  <thead>\n",
       "    <tr style=\"text-align: right;\">\n",
       "      <th></th>\n",
       "      <th>subject</th>\n",
       "      <th>sensor_id</th>\n",
       "      <th>hrs_to_calving</th>\n",
       "      <th>start</th>\n",
       "      <th>mi</th>\n",
       "      <th>steps</th>\n",
       "      <th>standing_time</th>\n",
       "      <th>lying_time</th>\n",
       "      <th>standing_change</th>\n",
       "      <th>lying_bouts</th>\n",
       "    </tr>\n",
       "  </thead>\n",
       "  <tbody>\n",
       "    <tr>\n",
       "      <th>0</th>\n",
       "      <td>112BL</td>\n",
       "      <td>BL</td>\n",
       "      <td>-61</td>\n",
       "      <td>16/08/2015 00:00</td>\n",
       "      <td>0</td>\n",
       "      <td>0</td>\n",
       "      <td>881</td>\n",
       "      <td>2719</td>\n",
       "      <td>0</td>\n",
       "      <td>0</td>\n",
       "    </tr>\n",
       "    <tr>\n",
       "      <th>1</th>\n",
       "      <td>112BL</td>\n",
       "      <td>BL</td>\n",
       "      <td>-60</td>\n",
       "      <td>16/08/2015 01:00</td>\n",
       "      <td>54</td>\n",
       "      <td>13</td>\n",
       "      <td>1175</td>\n",
       "      <td>2425</td>\n",
       "      <td>2</td>\n",
       "      <td>1</td>\n",
       "    </tr>\n",
       "    <tr>\n",
       "      <th>2</th>\n",
       "      <td>112BL</td>\n",
       "      <td>BL</td>\n",
       "      <td>-59</td>\n",
       "      <td>16/08/2015 02:00</td>\n",
       "      <td>33</td>\n",
       "      <td>9</td>\n",
       "      <td>428</td>\n",
       "      <td>3172</td>\n",
       "      <td>2</td>\n",
       "      <td>1</td>\n",
       "    </tr>\n",
       "    <tr>\n",
       "      <th>3</th>\n",
       "      <td>112BL</td>\n",
       "      <td>BL</td>\n",
       "      <td>-58</td>\n",
       "      <td>16/08/2015 03:00</td>\n",
       "      <td>19</td>\n",
       "      <td>4</td>\n",
       "      <td>341</td>\n",
       "      <td>3259</td>\n",
       "      <td>2</td>\n",
       "      <td>1</td>\n",
       "    </tr>\n",
       "    <tr>\n",
       "      <th>4</th>\n",
       "      <td>112BL</td>\n",
       "      <td>BL</td>\n",
       "      <td>-57</td>\n",
       "      <td>16/08/2015 04:00</td>\n",
       "      <td>7</td>\n",
       "      <td>1</td>\n",
       "      <td>739</td>\n",
       "      <td>2861</td>\n",
       "      <td>1</td>\n",
       "      <td>0</td>\n",
       "    </tr>\n",
       "  </tbody>\n",
       "</table>\n",
       "</div>"
      ],
      "text/plain": [
       "  subject sensor_id  hrs_to_calving             start  mi  steps  \\\n",
       "0   112BL        BL             -61  16/08/2015 00:00   0      0   \n",
       "1   112BL        BL             -60  16/08/2015 01:00  54     13   \n",
       "2   112BL        BL             -59  16/08/2015 02:00  33      9   \n",
       "3   112BL        BL             -58  16/08/2015 03:00  19      4   \n",
       "4   112BL        BL             -57  16/08/2015 04:00   7      1   \n",
       "\n",
       "   standing_time  lying_time  standing_change  lying_bouts  \n",
       "0            881        2719                0            0  \n",
       "1           1175        2425                2            1  \n",
       "2            428        3172                2            1  \n",
       "3            341        3259                2            1  \n",
       "4            739        2861                1            0  "
      ]
     },
     "execution_count": 18,
     "metadata": {},
     "output_type": "execute_result"
    }
   ],
   "source": [
    "df.head()"
   ]
  },
  {
   "cell_type": "code",
   "execution_count": 19,
   "metadata": {
    "collapsed": false
   },
   "outputs": [],
   "source": [
    "df=df.drop(df.columns[10:14],axis=1)"
   ]
  },
  {
   "cell_type": "code",
   "execution_count": 20,
   "metadata": {
    "collapsed": false
   },
   "outputs": [
    {
     "data": {
      "text/html": [
       "<div>\n",
       "<table border=\"1\" class=\"dataframe\">\n",
       "  <thead>\n",
       "    <tr style=\"text-align: right;\">\n",
       "      <th></th>\n",
       "      <th>subject</th>\n",
       "      <th>sensor_id</th>\n",
       "      <th>hrs_to_calving</th>\n",
       "      <th>start</th>\n",
       "      <th>mi</th>\n",
       "      <th>steps</th>\n",
       "      <th>standing_time</th>\n",
       "      <th>lying_time</th>\n",
       "      <th>standing_change</th>\n",
       "      <th>lying_bouts</th>\n",
       "    </tr>\n",
       "  </thead>\n",
       "  <tbody>\n",
       "    <tr>\n",
       "      <th>0</th>\n",
       "      <td>112BL</td>\n",
       "      <td>BL</td>\n",
       "      <td>-61</td>\n",
       "      <td>16/08/2015 00:00</td>\n",
       "      <td>0</td>\n",
       "      <td>0</td>\n",
       "      <td>881</td>\n",
       "      <td>2719</td>\n",
       "      <td>0</td>\n",
       "      <td>0</td>\n",
       "    </tr>\n",
       "    <tr>\n",
       "      <th>1</th>\n",
       "      <td>112BL</td>\n",
       "      <td>BL</td>\n",
       "      <td>-60</td>\n",
       "      <td>16/08/2015 01:00</td>\n",
       "      <td>54</td>\n",
       "      <td>13</td>\n",
       "      <td>1175</td>\n",
       "      <td>2425</td>\n",
       "      <td>2</td>\n",
       "      <td>1</td>\n",
       "    </tr>\n",
       "    <tr>\n",
       "      <th>2</th>\n",
       "      <td>112BL</td>\n",
       "      <td>BL</td>\n",
       "      <td>-59</td>\n",
       "      <td>16/08/2015 02:00</td>\n",
       "      <td>33</td>\n",
       "      <td>9</td>\n",
       "      <td>428</td>\n",
       "      <td>3172</td>\n",
       "      <td>2</td>\n",
       "      <td>1</td>\n",
       "    </tr>\n",
       "    <tr>\n",
       "      <th>3</th>\n",
       "      <td>112BL</td>\n",
       "      <td>BL</td>\n",
       "      <td>-58</td>\n",
       "      <td>16/08/2015 03:00</td>\n",
       "      <td>19</td>\n",
       "      <td>4</td>\n",
       "      <td>341</td>\n",
       "      <td>3259</td>\n",
       "      <td>2</td>\n",
       "      <td>1</td>\n",
       "    </tr>\n",
       "    <tr>\n",
       "      <th>4</th>\n",
       "      <td>112BL</td>\n",
       "      <td>BL</td>\n",
       "      <td>-57</td>\n",
       "      <td>16/08/2015 04:00</td>\n",
       "      <td>7</td>\n",
       "      <td>1</td>\n",
       "      <td>739</td>\n",
       "      <td>2861</td>\n",
       "      <td>1</td>\n",
       "      <td>0</td>\n",
       "    </tr>\n",
       "  </tbody>\n",
       "</table>\n",
       "</div>"
      ],
      "text/plain": [
       "  subject sensor_id  hrs_to_calving             start  mi  steps  \\\n",
       "0   112BL        BL             -61  16/08/2015 00:00   0      0   \n",
       "1   112BL        BL             -60  16/08/2015 01:00  54     13   \n",
       "2   112BL        BL             -59  16/08/2015 02:00  33      9   \n",
       "3   112BL        BL             -58  16/08/2015 03:00  19      4   \n",
       "4   112BL        BL             -57  16/08/2015 04:00   7      1   \n",
       "\n",
       "   standing_time  lying_time  standing_change  lying_bouts  \n",
       "0            881        2719                0            0  \n",
       "1           1175        2425                2            1  \n",
       "2            428        3172                2            1  \n",
       "3            341        3259                2            1  \n",
       "4            739        2861                1            0  "
      ]
     },
     "execution_count": 20,
     "metadata": {},
     "output_type": "execute_result"
    }
   ],
   "source": [
    "df.head()"
   ]
  },
  {
   "cell_type": "code",
   "execution_count": 21,
   "metadata": {
    "collapsed": false
   },
   "outputs": [],
   "source": [
    "df.set_index(['hrs_to_calving'],inplace=True)"
   ]
  },
  {
   "cell_type": "code",
   "execution_count": 22,
   "metadata": {
    "collapsed": false,
    "scrolled": true
   },
   "outputs": [
    {
     "data": {
      "text/html": [
       "<div>\n",
       "<table border=\"1\" class=\"dataframe\">\n",
       "  <thead>\n",
       "    <tr style=\"text-align: right;\">\n",
       "      <th></th>\n",
       "      <th>subject</th>\n",
       "      <th>sensor_id</th>\n",
       "      <th>start</th>\n",
       "      <th>mi</th>\n",
       "      <th>steps</th>\n",
       "      <th>standing_time</th>\n",
       "      <th>lying_time</th>\n",
       "      <th>standing_change</th>\n",
       "      <th>lying_bouts</th>\n",
       "    </tr>\n",
       "    <tr>\n",
       "      <th>hrs_to_calving</th>\n",
       "      <th></th>\n",
       "      <th></th>\n",
       "      <th></th>\n",
       "      <th></th>\n",
       "      <th></th>\n",
       "      <th></th>\n",
       "      <th></th>\n",
       "      <th></th>\n",
       "      <th></th>\n",
       "    </tr>\n",
       "  </thead>\n",
       "  <tbody>\n",
       "    <tr>\n",
       "      <th>-61</th>\n",
       "      <td>112BL</td>\n",
       "      <td>BL</td>\n",
       "      <td>16/08/2015 00:00</td>\n",
       "      <td>0</td>\n",
       "      <td>0</td>\n",
       "      <td>881</td>\n",
       "      <td>2719</td>\n",
       "      <td>0</td>\n",
       "      <td>0</td>\n",
       "    </tr>\n",
       "    <tr>\n",
       "      <th>-60</th>\n",
       "      <td>112BL</td>\n",
       "      <td>BL</td>\n",
       "      <td>16/08/2015 01:00</td>\n",
       "      <td>54</td>\n",
       "      <td>13</td>\n",
       "      <td>1175</td>\n",
       "      <td>2425</td>\n",
       "      <td>2</td>\n",
       "      <td>1</td>\n",
       "    </tr>\n",
       "    <tr>\n",
       "      <th>-59</th>\n",
       "      <td>112BL</td>\n",
       "      <td>BL</td>\n",
       "      <td>16/08/2015 02:00</td>\n",
       "      <td>33</td>\n",
       "      <td>9</td>\n",
       "      <td>428</td>\n",
       "      <td>3172</td>\n",
       "      <td>2</td>\n",
       "      <td>1</td>\n",
       "    </tr>\n",
       "    <tr>\n",
       "      <th>-58</th>\n",
       "      <td>112BL</td>\n",
       "      <td>BL</td>\n",
       "      <td>16/08/2015 03:00</td>\n",
       "      <td>19</td>\n",
       "      <td>4</td>\n",
       "      <td>341</td>\n",
       "      <td>3259</td>\n",
       "      <td>2</td>\n",
       "      <td>1</td>\n",
       "    </tr>\n",
       "    <tr>\n",
       "      <th>-57</th>\n",
       "      <td>112BL</td>\n",
       "      <td>BL</td>\n",
       "      <td>16/08/2015 04:00</td>\n",
       "      <td>7</td>\n",
       "      <td>1</td>\n",
       "      <td>739</td>\n",
       "      <td>2861</td>\n",
       "      <td>1</td>\n",
       "      <td>0</td>\n",
       "    </tr>\n",
       "  </tbody>\n",
       "</table>\n",
       "</div>"
      ],
      "text/plain": [
       "               subject sensor_id             start  mi  steps  standing_time  \\\n",
       "hrs_to_calving                                                                 \n",
       "-61              112BL        BL  16/08/2015 00:00   0      0            881   \n",
       "-60              112BL        BL  16/08/2015 01:00  54     13           1175   \n",
       "-59              112BL        BL  16/08/2015 02:00  33      9            428   \n",
       "-58              112BL        BL  16/08/2015 03:00  19      4            341   \n",
       "-57              112BL        BL  16/08/2015 04:00   7      1            739   \n",
       "\n",
       "                lying_time  standing_change  lying_bouts  \n",
       "hrs_to_calving                                            \n",
       "-61                   2719                0            0  \n",
       "-60                   2425                2            1  \n",
       "-59                   3172                2            1  \n",
       "-58                   3259                2            1  \n",
       "-57                   2861                1            0  "
      ]
     },
     "execution_count": 22,
     "metadata": {},
     "output_type": "execute_result"
    }
   ],
   "source": [
    "df.head()"
   ]
  },
  {
   "cell_type": "code",
   "execution_count": 23,
   "metadata": {
    "collapsed": false
   },
   "outputs": [
    {
     "data": {
      "text/plain": [
       "Int64Index([-61, -60, -59, -58, -57, -56, -55, -54, -53, -52,\n",
       "            ...\n",
       "              4,   5,   6,   7,   8,   9,  10,  11,  12,  13],\n",
       "           dtype='int64', name=u'hrs_to_calving', length=7056)"
      ]
     },
     "execution_count": 23,
     "metadata": {},
     "output_type": "execute_result"
    }
   ],
   "source": [
    "df.index"
   ]
  },
  {
   "cell_type": "code",
   "execution_count": 32,
   "metadata": {
    "collapsed": false
   },
   "outputs": [
    {
     "name": "stdout",
     "output_type": "stream",
     "text": [
      "98\n"
     ]
    }
   ],
   "source": [
    "print len(set(df.subject))"
   ]
  },
  {
   "cell_type": "code",
   "execution_count": 31,
   "metadata": {
    "collapsed": false
   },
   "outputs": [
    {
     "data": {
      "text/plain": [
       "sensor_id\n",
       "BL    Axes(0.125,0.125;0.775x0.775)\n",
       "BR    Axes(0.125,0.125;0.775x0.775)\n",
       "FL    Axes(0.125,0.125;0.775x0.775)\n",
       "dtype: object"
      ]
     },
     "execution_count": 31,
     "metadata": {},
     "output_type": "execute_result"
    },
    {
     "data": {
      "image/png": "[encoded data removed]",
      "text/plain": [
       "<matplotlib.figure.Figure at 0xe2f8cf8>"
      ]
     },
     "metadata": {},
     "output_type": "display_data"
    },
    {
     "data": {
      "image/png": "[encoded data removed]",
      "text/plain": [
       "<matplotlib.figure.Figure at 0xe2f8c50>"
      ]
     },
     "metadata": {},
     "output_type": "display_data"
    },
    {
     "data": {
      "image/png": "[encoded data removed]",
      "text/plain": [
       "<matplotlib.figure.Figure at 0xea9ae48>"
      ]
     },
     "metadata": {},
     "output_type": "display_data"
    }
   ],
   "source": [
    "#labels = set([sensor for sensor in df.sensor_id])\n",
    "#print labels\n",
    "df.groupby('sensor_id').plot(y='mi')"
   ]
  },
  {
   "cell_type": "code",
   "execution_count": null,
   "metadata": {
    "collapsed": true
   },
   "outputs": [],
   "source": []
  }
 ],
 "metadata": {
  "kernelspec": {
   "display_name": "Python [Root]",
   "language": "python",
   "name": "Python [Root]"
  },
  "language_info": {
   "codemirror_mode": {
    "name": "ipython",
    "version": 2
   },
   "file_extension": ".py",
   "mimetype": "text/x-python",
   "name": "python",
   "nbconvert_exporter": "python",
   "pygments_lexer": "ipython2",
   "version": "2.7.11"
  }
 },
 "nbformat": 4,
 "nbformat_minor": 0
}
