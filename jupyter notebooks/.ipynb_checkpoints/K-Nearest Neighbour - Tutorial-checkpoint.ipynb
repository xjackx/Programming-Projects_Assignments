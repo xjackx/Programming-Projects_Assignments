{
 "cells": [
  {
   "cell_type": "code",
   "execution_count": 19,
   "metadata": {
    "collapsed": false
   },
   "outputs": [
    {
     "name": "stdout",
     "output_type": "stream",
     "text": [
      "3.5\n",
      "<type 'str'>\n"
     ]
    }
   ],
   "source": [
    "import csv\n",
    "with open('D:\\Ebooks\\MSc Big Data -Stirling University\\ITNPBD6\\knn\\iris.data','rb') as csvfile:\n",
    "    lines=csv.reader(csvfile)\n",
    "    dataset=list(lines)\n",
    "    print dataset[0][1]\n",
    "    print type(dataset[0][1])\n",
    "\n",
    "    "
   ]
  },
  {
   "cell_type": "code",
   "execution_count": 20,
   "metadata": {
    "collapsed": true
   },
   "outputs": [],
   "source": [
    "import csv\n",
    "import random\n",
    "def loadDataset(filename,split,trainingSet=[],testSet=[]):\n",
    "    with open(filename,'rb') as csvfile:\n",
    "        lines=csv.reader(csvfile)\n",
    "        dataset=list(lines)\n",
    "        for x in range(len(dataset)-1):\n",
    "            for y in range(4):\n",
    "                dataset[x][y]=float(dataset[x][y])\n",
    "                if random.random()<split:\n",
    "                    trainingSet.append(dataset[x])\n",
    "                else:\n",
    "                    testSet.append(dataset[x])"
   ]
  },
  {
   "cell_type": "code",
   "execution_count": 24,
   "metadata": {
    "collapsed": false
   },
   "outputs": [
    {
     "name": "stdout",
     "output_type": "stream",
     "text": [
      "Train: 409\n",
      "Test: 191\n"
     ]
    }
   ],
   "source": [
    "import  os\n",
    "os.chdir('D:/Ebooks/MSc Big Data -Stirling University/ITNPBD6/knn/')\n",
    "trainingSet=[]\n",
    "testSet=[]\n",
    "loadDataset('iris.data',0.66,trainingSet,testSet)\n",
    "print 'Train:',len(trainingSet)\n",
    "print 'Test:',len(testSet)"
   ]
  },
  {
   "cell_type": "code",
   "execution_count": 27,
   "metadata": {
    "collapsed": true
   },
   "outputs": [],
   "source": [
    "import math\n",
    "def euclideanDistance(instance1,instance2,length):\n",
    "    distance=0\n",
    "    for x in range(length):\n",
    "        distance+=pow(instance1[x]-instance2[x],2)\n",
    "    return distance"
   ]
  },
  {
   "cell_type": "code",
   "execution_count": 29,
   "metadata": {
    "collapsed": false
   },
   "outputs": [
    {
     "name": "stdout",
     "output_type": "stream",
     "text": [
      "Distance:  3\n"
     ]
    }
   ],
   "source": [
    "data1=[2,2,2,'a']\n",
    "data2=[3,3,3,'b']\n",
    "distance=euclideanDistance(data1,data2,3)\n",
    "print 'Distance: ',distance"
   ]
  },
  {
   "cell_type": "code",
   "execution_count": 30,
   "metadata": {
    "collapsed": true
   },
   "outputs": [],
   "source": [
    "import operator\n",
    "def getNeighbours(trainingSet,testInstance,k):\n",
    "    distances=[]\n",
    "    length=len(testInstance)-1\n",
    "    for x in range(len(trainingSet)):\n",
    "        dist=euclideanDistance(testInstance,trainingSet[x],length)\n",
    "        distances.append((trainingSet[x],dist))\n",
    "    distances.sort(key=operator.itemgetter(1))\n",
    "    neighbours=[]\n",
    "    for x in range(k):\n",
    "        neighbours.append(distances[x][0])\n",
    "    return neighbours"
   ]
  },
  {
   "cell_type": "code",
   "execution_count": 35,
   "metadata": {
    "collapsed": false
   },
   "outputs": [
    {
     "name": "stdout",
     "output_type": "stream",
     "text": [
      "[[4, 4, 4, 'b']]\n"
     ]
    }
   ],
   "source": [
    "trainSet=[[2,2,2,'a'],[4,4,4,'b']]\n",
    "testInstance=[5,5,5]\n",
    "k=1\n",
    "neighbours=getNeighbours(trainSet,testInstance,k)\n",
    "#print euclideanDistance(trainSet[1],testInstance,len(trainSet[0])-1)\n",
    "print neighbours"
   ]
  },
  {
   "cell_type": "code",
   "execution_count": 46,
   "metadata": {
    "collapsed": true
   },
   "outputs": [],
   "source": [
    "import operator\n",
    "def getResponse(neighbours):\n",
    "    classVotes={}\n",
    "    for x in range(len(neighbours)):\n",
    "        response=neighbours[x][-1]\n",
    "        if response in classVotes:\n",
    "            classVotes[response]+=1\n",
    "        else:\n",
    "            classVotes[response]=1\n",
    "    sortedVotes=sorted(classVotes.iteritems(),key=operator.itemgetter(1),reverse=True)\n",
    "    return sortedVotes[0][0]"
   ]
  },
  {
   "cell_type": "code",
   "execution_count": 52,
   "metadata": {
    "collapsed": false
   },
   "outputs": [
    {
     "name": "stdout",
     "output_type": "stream",
     "text": [
      "b\n"
     ]
    }
   ],
   "source": [
    "neighours = [[1,1,1,'a'],[2,2,2,'a'],[3,3,3,'b']]\n",
    "response=getResponse(neighbours)\n",
    "print response"
   ]
  },
  {
   "cell_type": "code",
   "execution_count": 48,
   "metadata": {
    "collapsed": true
   },
   "outputs": [],
   "source": [
    "def getAccuracy(testSet,predictions):\n",
    "    correct=0\n",
    "    for x in range(len(testSet)):\n",
    "        if testSet[x][-1] is predictions[x]:\n",
    "            correct+=1\n",
    "    return correct/float(len(testSet))*100.0"
   ]
  },
  {
   "cell_type": "code",
   "execution_count": 49,
   "metadata": {
    "collapsed": false
   },
   "outputs": [
    {
     "name": "stdout",
     "output_type": "stream",
     "text": [
      "33.3333333333\n"
     ]
    }
   ],
   "source": [
    "testSet=[[1,1,1,'a'],[2,2,2,'b'],[3,3,3,'b']]\n",
    "predictions=['a','a','a']\n",
    "accuracy=getAccuracy(testSet,predictions)\n",
    "print accuracy"
   ]
  },
  {
   "cell_type": "code",
   "execution_count": 50,
   "metadata": {
    "collapsed": false
   },
   "outputs": [
    {
     "name": "stdout",
     "output_type": "stream",
     "text": [
      "Train set:  409\n",
      "Test set:  191\n",
      "> predicted = Iris-setosa actual= Iris-setosa\n",
      "> predicted = Iris-setosa actual= Iris-setosa\n",
      "> predicted = Iris-setosa actual= Iris-setosa\n",
      "> predicted = Iris-setosa actual= Iris-setosa\n",
      "> predicted = Iris-setosa actual= Iris-setosa\n",
      "> predicted = Iris-setosa actual= Iris-setosa\n",
      "> predicted = Iris-setosa actual= Iris-setosa\n",
      "> predicted = Iris-setosa actual= Iris-setosa\n",
      "> predicted = Iris-setosa actual= Iris-setosa\n",
      "> predicted = Iris-setosa actual= Iris-setosa\n",
      "> predicted = Iris-setosa actual= Iris-setosa\n",
      "> predicted = Iris-setosa actual= Iris-setosa\n",
      "> predicted = Iris-setosa actual= Iris-setosa\n",
      "> predicted = Iris-setosa actual= Iris-setosa\n",
      "> predicted = Iris-setosa actual= Iris-setosa\n",
      "> predicted = Iris-setosa actual= Iris-setosa\n",
      "> predicted = Iris-setosa actual= Iris-setosa\n",
      "> predicted = Iris-setosa actual= Iris-setosa\n",
      "> predicted = Iris-setosa actual= Iris-setosa\n",
      "> predicted = Iris-setosa actual= Iris-setosa\n",
      "> predicted = Iris-setosa actual= Iris-setosa\n",
      "> predicted = Iris-setosa actual= Iris-setosa\n",
      "> predicted = Iris-setosa actual= Iris-setosa\n",
      "> predicted = Iris-setosa actual= Iris-setosa\n",
      "> predicted = Iris-setosa actual= Iris-setosa\n",
      "> predicted = Iris-setosa actual= Iris-setosa\n",
      "> predicted = Iris-setosa actual= Iris-setosa\n",
      "> predicted = Iris-setosa actual= Iris-setosa\n",
      "> predicted = Iris-setosa actual= Iris-setosa\n",
      "> predicted = Iris-setosa actual= Iris-setosa\n",
      "> predicted = Iris-setosa actual= Iris-setosa\n",
      "> predicted = Iris-setosa actual= Iris-setosa\n",
      "> predicted = Iris-setosa actual= Iris-setosa\n",
      "> predicted = Iris-setosa actual= Iris-setosa\n",
      "> predicted = Iris-setosa actual= Iris-setosa\n",
      "> predicted = Iris-setosa actual= Iris-setosa\n",
      "> predicted = Iris-setosa actual= Iris-setosa\n",
      "> predicted = Iris-setosa actual= Iris-setosa\n",
      "> predicted = Iris-setosa actual= Iris-setosa\n",
      "> predicted = Iris-setosa actual= Iris-setosa\n",
      "> predicted = Iris-setosa actual= Iris-setosa\n",
      "> predicted = Iris-setosa actual= Iris-setosa\n",
      "> predicted = Iris-setosa actual= Iris-setosa\n",
      "> predicted = Iris-setosa actual= Iris-setosa\n",
      "> predicted = Iris-setosa actual= Iris-setosa\n",
      "> predicted = Iris-setosa actual= Iris-setosa\n",
      "> predicted = Iris-setosa actual= Iris-setosa\n",
      "> predicted = Iris-setosa actual= Iris-setosa\n",
      "> predicted = Iris-setosa actual= Iris-setosa\n",
      "> predicted = Iris-setosa actual= Iris-setosa\n",
      "> predicted = Iris-setosa actual= Iris-setosa\n",
      "> predicted = Iris-setosa actual= Iris-setosa\n",
      "> predicted = Iris-setosa actual= Iris-setosa\n",
      "> predicted = Iris-setosa actual= Iris-setosa\n",
      "> predicted = Iris-setosa actual= Iris-setosa\n",
      "> predicted = Iris-setosa actual= Iris-setosa\n",
      "> predicted = Iris-setosa actual= Iris-setosa\n",
      "> predicted = Iris-setosa actual= Iris-setosa\n",
      "> predicted = Iris-setosa actual= Iris-setosa\n",
      "> predicted = Iris-setosa actual= Iris-setosa\n",
      "> predicted = Iris-setosa actual= Iris-setosa\n",
      "> predicted = Iris-setosa actual= Iris-setosa\n",
      "> predicted = Iris-setosa actual= Iris-setosa\n",
      "> predicted = Iris-setosa actual= Iris-setosa\n",
      "> predicted = Iris-versicolor actual= Iris-versicolor\n",
      "> predicted = Iris-versicolor actual= Iris-versicolor\n",
      "> predicted = Iris-versicolor actual= Iris-versicolor\n",
      "> predicted = Iris-versicolor actual= Iris-versicolor\n",
      "> predicted = Iris-versicolor actual= Iris-versicolor\n",
      "> predicted = Iris-versicolor actual= Iris-versicolor\n",
      "> predicted = Iris-versicolor actual= Iris-versicolor\n",
      "> predicted = Iris-versicolor actual= Iris-versicolor\n",
      "> predicted = Iris-versicolor actual= Iris-versicolor\n",
      "> predicted = Iris-versicolor actual= Iris-versicolor\n",
      "> predicted = Iris-versicolor actual= Iris-versicolor\n",
      "> predicted = Iris-versicolor actual= Iris-versicolor\n",
      "> predicted = Iris-versicolor actual= Iris-versicolor\n",
      "> predicted = Iris-versicolor actual= Iris-versicolor\n",
      "> predicted = Iris-versicolor actual= Iris-versicolor\n",
      "> predicted = Iris-versicolor actual= Iris-versicolor\n",
      "> predicted = Iris-versicolor actual= Iris-versicolor\n",
      "> predicted = Iris-versicolor actual= Iris-versicolor\n",
      "> predicted = Iris-versicolor actual= Iris-versicolor\n",
      "> predicted = Iris-versicolor actual= Iris-versicolor\n",
      "> predicted = Iris-versicolor actual= Iris-versicolor\n",
      "> predicted = Iris-versicolor actual= Iris-versicolor\n",
      "> predicted = Iris-virginica actual= Iris-versicolor\n",
      "> predicted = Iris-virginica actual= Iris-versicolor\n",
      "> predicted = Iris-virginica actual= Iris-versicolor\n",
      "> predicted = Iris-versicolor actual= Iris-versicolor\n",
      "> predicted = Iris-versicolor actual= Iris-versicolor\n",
      "> predicted = Iris-versicolor actual= Iris-versicolor\n",
      "> predicted = Iris-versicolor actual= Iris-versicolor\n",
      "> predicted = Iris-versicolor actual= Iris-versicolor\n",
      "> predicted = Iris-versicolor actual= Iris-versicolor\n",
      "> predicted = Iris-versicolor actual= Iris-versicolor\n",
      "> predicted = Iris-versicolor actual= Iris-versicolor\n",
      "> predicted = Iris-versicolor actual= Iris-versicolor\n",
      "> predicted = Iris-versicolor actual= Iris-versicolor\n",
      "> predicted = Iris-versicolor actual= Iris-versicolor\n",
      "> predicted = Iris-versicolor actual= Iris-versicolor\n",
      "> predicted = Iris-versicolor actual= Iris-versicolor\n",
      "> predicted = Iris-versicolor actual= Iris-versicolor\n",
      "> predicted = Iris-versicolor actual= Iris-versicolor\n",
      "> predicted = Iris-versicolor actual= Iris-versicolor\n",
      "> predicted = Iris-versicolor actual= Iris-versicolor\n",
      "> predicted = Iris-versicolor actual= Iris-versicolor\n",
      "> predicted = Iris-versicolor actual= Iris-versicolor\n",
      "> predicted = Iris-versicolor actual= Iris-versicolor\n",
      "> predicted = Iris-versicolor actual= Iris-versicolor\n",
      "> predicted = Iris-versicolor actual= Iris-versicolor\n",
      "> predicted = Iris-versicolor actual= Iris-versicolor\n",
      "> predicted = Iris-versicolor actual= Iris-versicolor\n",
      "> predicted = Iris-versicolor actual= Iris-versicolor\n",
      "> predicted = Iris-versicolor actual= Iris-versicolor\n",
      "> predicted = Iris-versicolor actual= Iris-versicolor\n",
      "> predicted = Iris-versicolor actual= Iris-versicolor\n",
      "> predicted = Iris-versicolor actual= Iris-versicolor\n",
      "> predicted = Iris-versicolor actual= Iris-versicolor\n",
      "> predicted = Iris-versicolor actual= Iris-versicolor\n",
      "> predicted = Iris-versicolor actual= Iris-versicolor\n",
      "> predicted = Iris-versicolor actual= Iris-versicolor\n",
      "> predicted = Iris-versicolor actual= Iris-versicolor\n",
      "> predicted = Iris-versicolor actual= Iris-versicolor\n",
      "> predicted = Iris-versicolor actual= Iris-versicolor\n",
      "> predicted = Iris-virginica actual= Iris-virginica\n",
      "> predicted = Iris-virginica actual= Iris-virginica\n",
      "> predicted = Iris-virginica actual= Iris-virginica\n",
      "> predicted = Iris-virginica actual= Iris-virginica\n",
      "> predicted = Iris-virginica actual= Iris-virginica\n",
      "> predicted = Iris-virginica actual= Iris-virginica\n",
      "> predicted = Iris-virginica actual= Iris-virginica\n",
      "> predicted = Iris-virginica actual= Iris-virginica\n",
      "> predicted = Iris-virginica actual= Iris-virginica\n",
      "> predicted = Iris-virginica actual= Iris-virginica\n",
      "> predicted = Iris-virginica actual= Iris-virginica\n",
      "> predicted = Iris-virginica actual= Iris-virginica\n",
      "> predicted = Iris-virginica actual= Iris-virginica\n",
      "> predicted = Iris-virginica actual= Iris-virginica\n",
      "> predicted = Iris-virginica actual= Iris-virginica\n",
      "> predicted = Iris-virginica actual= Iris-virginica\n",
      "> predicted = Iris-virginica actual= Iris-virginica\n",
      "> predicted = Iris-virginica actual= Iris-virginica\n",
      "> predicted = Iris-virginica actual= Iris-virginica\n",
      "> predicted = Iris-virginica actual= Iris-virginica\n",
      "> predicted = Iris-virginica actual= Iris-virginica\n",
      "> predicted = Iris-virginica actual= Iris-virginica\n",
      "> predicted = Iris-virginica actual= Iris-virginica\n",
      "> predicted = Iris-virginica actual= Iris-virginica\n",
      "> predicted = Iris-virginica actual= Iris-virginica\n",
      "> predicted = Iris-virginica actual= Iris-virginica\n",
      "> predicted = Iris-virginica actual= Iris-virginica\n",
      "> predicted = Iris-virginica actual= Iris-virginica\n",
      "> predicted = Iris-virginica actual= Iris-virginica\n",
      "> predicted = Iris-virginica actual= Iris-virginica\n",
      "> predicted = Iris-virginica actual= Iris-virginica\n",
      "> predicted = Iris-virginica actual= Iris-virginica\n",
      "> predicted = Iris-virginica actual= Iris-virginica\n",
      "> predicted = Iris-virginica actual= Iris-virginica\n",
      "> predicted = Iris-virginica actual= Iris-virginica\n",
      "> predicted = Iris-virginica actual= Iris-virginica\n",
      "> predicted = Iris-virginica actual= Iris-virginica\n",
      "> predicted = Iris-virginica actual= Iris-virginica\n",
      "> predicted = Iris-virginica actual= Iris-virginica\n",
      "> predicted = Iris-virginica actual= Iris-virginica\n",
      "> predicted = Iris-virginica actual= Iris-virginica\n",
      "> predicted = Iris-virginica actual= Iris-virginica\n",
      "> predicted = Iris-virginica actual= Iris-virginica\n",
      "> predicted = Iris-virginica actual= Iris-virginica\n",
      "> predicted = Iris-virginica actual= Iris-virginica\n",
      "> predicted = Iris-virginica actual= Iris-virginica\n",
      "> predicted = Iris-virginica actual= Iris-virginica\n",
      "> predicted = Iris-virginica actual= Iris-virginica\n",
      "> predicted = Iris-virginica actual= Iris-virginica\n",
      "> predicted = Iris-virginica actual= Iris-virginica\n",
      "> predicted = Iris-virginica actual= Iris-virginica\n",
      "> predicted = Iris-virginica actual= Iris-virginica\n",
      "> predicted = Iris-virginica actual= Iris-virginica\n",
      "> predicted = Iris-virginica actual= Iris-virginica\n",
      "> predicted = Iris-virginica actual= Iris-virginica\n",
      "> predicted = Iris-virginica actual= Iris-virginica\n",
      "> predicted = Iris-virginica actual= Iris-virginica\n",
      "> predicted = Iris-virginica actual= Iris-virginica\n",
      "> predicted = Iris-virginica actual= Iris-virginica\n",
      "> predicted = Iris-virginica actual= Iris-virginica\n",
      "> predicted = Iris-virginica actual= Iris-virginica\n",
      "> predicted = Iris-virginica actual= Iris-virginica\n",
      "> predicted = Iris-virginica actual= Iris-virginica\n",
      "> predicted = Iris-virginica actual= Iris-virginica\n",
      "> predicted = Iris-virginica actual= Iris-virginica\n",
      "> predicted = Iris-virginica actual= Iris-virginica\n",
      "Accuracy of Model is:  95.2879581152 %\n"
     ]
    }
   ],
   "source": [
    "def main():\n",
    "    #prepare data\n",
    "    trainingSet=[]\n",
    "    testSet=[]\n",
    "    split=0.67\n",
    "    loadDataset('iris.data',split,trainingSet,testSet)\n",
    "    print 'Train set: ',len(trainingSet)\n",
    "    print 'Test set: ', len(testSet)\n",
    "    #generate predictions\n",
    "    predictions=[]\n",
    "    k=3\n",
    "    for x in range(len(testSet)):\n",
    "        neighbours=getNeighbours(trainingSet,testSet[x],k)\n",
    "        result=getResponse(neighbours)\n",
    "        predictions.append(result)\n",
    "        print '> predicted =',result,'actual=',testSet[x][-1]\n",
    "    accuracy=getAccuracy(testSet,predictions)\n",
    "    print 'Accuracy of Model is: ',accuracy,'%'\n",
    "main()"
   ]
  },
  {
   "cell_type": "code",
   "execution_count": null,
   "metadata": {
    "collapsed": true
   },
   "outputs": [],
   "source": []
  }
 ],
 "metadata": {
  "kernelspec": {
   "display_name": "Python 2",
   "language": "python",
   "name": "python2"
  },
  "language_info": {
   "codemirror_mode": {
    "name": "ipython",
    "version": 2
   },
   "file_extension": ".py",
   "mimetype": "text/x-python",
   "name": "python",
   "nbconvert_exporter": "python",
   "pygments_lexer": "ipython2",
   "version": "2.7.11"
  }
 },
 "nbformat": 4,
 "nbformat_minor": 0
}
