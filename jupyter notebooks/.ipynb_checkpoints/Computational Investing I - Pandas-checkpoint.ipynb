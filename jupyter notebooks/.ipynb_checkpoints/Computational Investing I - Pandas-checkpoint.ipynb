{
 "cells": [
  {
   "cell_type": "code",
   "execution_count": 7,
   "metadata": {
    "collapsed": true
   },
   "outputs": [],
   "source": [
    "import numpy as np\n",
    "import pandas as pd\n",
    "import datetime as dt\n",
    "from pandas import Series,DataFrame"
   ]
  },
  {
   "cell_type": "code",
   "execution_count": 3,
   "metadata": {
    "collapsed": false
   },
   "outputs": [
    {
     "name": "stdout",
     "output_type": "stream",
     "text": [
      "the index we created has the following dates\n",
      "[datetime.datetime(2011, 1, 1, 16, 0), datetime.datetime(2011, 1, 2, 16, 0), datetime.datetime(2011, 1, 3, 16, 0), datetime.datetime(2011, 1, 4, 16, 0), datetime.datetime(2011, 1, 5, 16, 0)]\n"
     ]
    }
   ],
   "source": [
    "ldt_timestamps=[]\n",
    "for i in range(1,6):\n",
    "    ldt_timestamps.append(dt.datetime(2011,1,i,16))\n",
    "print \"the index we created has the following dates\"\n",
    "print ldt_timestamps"
   ]
  },
  {
   "cell_type": "code",
   "execution_count": 27,
   "metadata": {
    "collapsed": false
   },
   "outputs": [],
   "source": [
    "ts_single_value=Series(0.0,index=ldt_timestamps)"
   ]
  },
  {
   "cell_type": "code",
   "execution_count": 5,
   "metadata": {
    "collapsed": false
   },
   "outputs": [
    {
     "name": "stdout",
     "output_type": "stream",
     "text": [
      "A time series initiated to one single value: \n",
      "2011-01-01 16:00:00    0\n",
      "2011-01-02 16:00:00    0\n",
      "2011-01-03 16:00:00    0\n",
      "2011-01-04 16:00:00    0\n",
      "2011-01-05 16:00:00    0\n",
      "dtype: float64\n"
     ]
    }
   ],
   "source": [
    "print \"A time series initiated to one single value: \"\n",
    "print ts_single_value"
   ]
  },
  {
   "cell_type": "code",
   "execution_count": 6,
   "metadata": {
    "collapsed": false
   },
   "outputs": [
    {
     "name": "stdout",
     "output_type": "stream",
     "text": [
      "Dummy initiated aray: \n",
      "[0 1 2 3 4]\n"
     ]
    }
   ],
   "source": [
    "na_vals=np.arange(len(ldt_timestamps))\n",
    "print \"Dummy initiated aray: \"\n",
    "print na_vals"
   ]
  },
  {
   "cell_type": "code",
   "execution_count": 9,
   "metadata": {
    "collapsed": false
   },
   "outputs": [
    {
     "name": "stdout",
     "output_type": "stream",
     "text": [
      "A time series initialized using a numpy array: \n",
      "2011-01-01 16:00:00    0\n",
      "2011-01-02 16:00:00    1\n",
      "2011-01-03 16:00:00    2\n",
      "2011-01-04 16:00:00    3\n",
      "2011-01-05 16:00:00    4\n",
      "dtype: int32\n"
     ]
    }
   ],
   "source": [
    "ts_array=Series(na_vals,index=ldt_timestamps)\n",
    "print \"A time series initialized using a numpy array: \"\n",
    "print ts_array"
   ]
  },
  {
   "cell_type": "code",
   "execution_count": 10,
   "metadata": {
    "collapsed": false
   },
   "outputs": [
    {
     "name": "stdout",
     "output_type": "stream",
     "text": [
      "Reading the time series for a particular date\n",
      "Date:  2011-01-02 16:00:00\n",
      "Value 1\n"
     ]
    }
   ],
   "source": [
    "print \"Reading the time series for a particular date\"\n",
    "print \"Date: \",ldt_timestamps[1]\n",
    "print \"Value\",ts_array[ldt_timestamps[1]]"
   ]
  },
  {
   "cell_type": "code",
   "execution_count": 11,
   "metadata": {
    "collapsed": false
   },
   "outputs": [
    {
     "name": "stdout",
     "output_type": "stream",
     "text": [
      "initializing a list of symbols: \n",
      "['AAPL', 'GOOG', 'MSFT', 'IBM']\n"
     ]
    }
   ],
   "source": [
    "print \"initializing a list of symbols: \"\n",
    "ls_symbols =['AAPL','GOOG','MSFT','IBM']\n",
    "print ls_symbols"
   ]
  },
  {
   "cell_type": "code",
   "execution_count": 14,
   "metadata": {
    "collapsed": false
   },
   "outputs": [
    {
     "name": "stdout",
     "output_type": "stream",
     "text": [
      "initializing a dataframe with one value: \n",
      "                     AAPL  GOOG  MSFT  IBM\n",
      "2011-01-01 16:00:00     0     0     0    0\n",
      "2011-01-02 16:00:00     0     0     0    0\n",
      "2011-01-03 16:00:00     0     0     0    0\n",
      "2011-01-04 16:00:00     0     0     0    0\n",
      "2011-01-05 16:00:00     0     0     0    0\n"
     ]
    }
   ],
   "source": [
    "print \"initializing a dataframe with one value: \"\n",
    "df_single=DataFrame(index=ldt_timestamps,columns=ls_symbols)\n",
    "df_single=df_single.fillna(0.0)\n",
    "print df_single"
   ]
  },
  {
   "cell_type": "code",
   "execution_count": 17,
   "metadata": {
    "collapsed": false
   },
   "outputs": [
    {
     "name": "stdout",
     "output_type": "stream",
     "text": [
      "initializing a dataframe with a numpy array: \n",
      "                         AAPL      GOOG      MSFT       IBM\n",
      "2011-01-01 16:00:00 -1.180094 -1.947835  0.480877  0.324558\n",
      "2011-01-02 16:00:00  1.267665 -0.176588 -0.537454 -1.726219\n",
      "2011-01-03 16:00:00  0.113735  0.047236  0.101455 -3.022643\n",
      "2011-01-04 16:00:00 -0.366073 -0.104265  0.017585 -1.089533\n",
      "2011-01-05 16:00:00 -1.088232 -0.433268 -0.336811 -0.294915\n"
     ]
    }
   ],
   "source": [
    "print \"initializing a dataframe with a numpy array: \"\n",
    "na_vals_2=np.random.randn(len(ldt_timestamps),len(ls_symbols))\n",
    "df_vals=DataFrame(na_vals_2,index=ldt_timestamps,columns=ls_symbols)\n",
    "print df_vals"
   ]
  },
  {
   "cell_type": "code",
   "execution_count": 19,
   "metadata": {
    "collapsed": false
   },
   "outputs": [
    {
     "name": "stdout",
     "output_type": "stream",
     "text": [
      "Access the timeseries of a particulat symbol: \n",
      "2011-01-01 16:00:00   -1.947835\n",
      "2011-01-02 16:00:00   -0.176588\n",
      "2011-01-03 16:00:00    0.047236\n",
      "2011-01-04 16:00:00   -0.104265\n",
      "2011-01-05 16:00:00   -0.433268\n",
      "Name: GOOG, dtype: float64\n"
     ]
    }
   ],
   "source": [
    "print \"Access the timeseries of a particulat symbol: \"\n",
    "print df_vals[ls_symbols[1]]"
   ]
  },
  {
   "cell_type": "code",
   "execution_count": 22,
   "metadata": {
    "collapsed": false
   },
   "outputs": [
    {
     "name": "stdout",
     "output_type": "stream",
     "text": [
      "Access the timeseries of a particular date: \n",
      "AAPL    1.267665\n",
      "GOOG   -0.176588\n",
      "MSFT   -0.537454\n",
      "IBM    -1.726219\n",
      "Name: 2011-01-02 16:00:00, dtype: float64\n"
     ]
    }
   ],
   "source": [
    "print \"Access the timeseries of a particular date: \"\n",
    "print df_vals.ix[ldt_timestamps[1]]"
   ]
  },
  {
   "cell_type": "code",
   "execution_count": 23,
   "metadata": {
    "collapsed": false
   },
   "outputs": [
    {
     "name": "stdout",
     "output_type": "stream",
     "text": [
      "Access the value for a specific symbol on a specific date: \n"
     ]
    },
    {
     "data": {
      "text/plain": [
       "-0.17658750372539439"
      ]
     },
     "execution_count": 23,
     "metadata": {},
     "output_type": "execute_result"
    }
   ],
   "source": [
    "print \"Access the value for a specific symbol on a specific date: \"\n",
    "df_vals[ls_symbols[1]].ix[ldt_timestamps[1]]"
   ]
  },
  {
   "cell_type": "code",
   "execution_count": 26,
   "metadata": {
    "collapsed": false
   },
   "outputs": [
    {
     "name": "stdout",
     "output_type": "stream",
     "text": [
      "re-indexing the dataframe\n",
      "                         AAPL       IBM  XOM\n",
      "2011-01-03 16:00:00  0.113735 -3.022643  NaN\n",
      "2011-01-05 16:00:00 -1.088232 -0.294915  NaN\n",
      "2011-01-07 16:00:00       NaN       NaN  NaN\n",
      "Observe that reindex carried over whatever values it could find and set the rest to NAN\n"
     ]
    }
   ],
   "source": [
    "print \"re-indexing the dataframe\"\n",
    "ldt_new_dates=[dt.datetime(2011,1,3,16),dt.datetime(2011,1,5,16),dt.datetime(2011,1,7,16)]\n",
    "ls_new_symbols=['AAPL','IBM','XOM']\n",
    "df_new=df_vals.reindex(index=ldt_new_dates,columns=ls_new_symbols)\n",
    "print df_new\n",
    "print \"Observe that reindex carried over whatever values it could find and set the rest to NAN\""
   ]
  },
  {
   "cell_type": "code",
   "execution_count": null,
   "metadata": {
    "collapsed": true
   },
   "outputs": [],
   "source": []
  }
 ],
 "metadata": {
  "kernelspec": {
   "display_name": "Python 2",
   "language": "python",
   "name": "python2"
  },
  "language_info": {
   "codemirror_mode": {
    "name": "ipython",
    "version": 2
   },
   "file_extension": ".py",
   "mimetype": "text/x-python",
   "name": "python",
   "nbconvert_exporter": "python",
   "pygments_lexer": "ipython2",
   "version": "2.7.11"
  }
 },
 "nbformat": 4,
 "nbformat_minor": 0
}
