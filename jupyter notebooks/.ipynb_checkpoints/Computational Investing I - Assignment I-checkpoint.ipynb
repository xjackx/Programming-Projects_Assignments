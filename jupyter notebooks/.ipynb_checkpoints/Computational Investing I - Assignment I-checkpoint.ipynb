{
 "cells": [
  {
   "cell_type": "code",
   "execution_count": 19,
   "metadata": {
    "collapsed": false
   },
   "outputs": [],
   "source": [
    "import numpy as np\n",
    "import pandas as pd\n",
    "from pandas import Series, DataFrame\n",
    "import matplotlib.pyplot as plt\n",
    "import datetime as dt\n",
    "import QSTK.qstkutil.qsdateutil as du\n",
    "import QSTK.qstkutil.tsutil as tsu\n",
    "import QSTK.qstkutil.DataAccess as da"
   ]
  },
  {
   "cell_type": "code",
   "execution_count": null,
   "metadata": {
    "collapsed": true
   },
   "outputs": [],
   "source": [
    "def simulate(startdate,enddate,ls_symbols,pf_allocation):\n",
    "    dt_start=dt.datetime(startdate)\n",
    "    dt_end=dt.datetime(enddate)\n",
    "    dt_timeofday=dt.timedelta(hours=16)\n",
    "    ldt_timestamps=du.getNYSEdays(dt_start,dt_end,dt_timeofday)\n",
    "    c_dataObj=da.DataAccess('Yahoo',cachestalltime=0)\n",
    "    ls_keys=['open','high','low','close','volume','actual_close']\n",
    "    ldf_data=c_dataObj.get_data(ldt_timestamps,ls_symbols,ls_keys)\n",
    "    d_data=dict(zip(ls_keys,ldf_data))\n",
    "    daily_vol = d_data['volume'].copy()\n",
    "    daily_close =d_data['close'].copy()\n",
    "    daily_returns=tsu.returnize0(daily_close)\n",
    "    "
   ]
  },
  {
   "cell_type": "code",
   "execution_count": 53,
   "metadata": {
    "collapsed": false
   },
   "outputs": [
    {
     "name": "stdout",
     "output_type": "stream",
     "text": [
      "[  0.00000000e+00  -6.12279472e-03   1.51394235e-02   9.80987154e-03\n",
      "  -6.13243081e-03  -1.22567262e-02  -1.15891525e-03   5.47349664e-03\n",
      "   3.25604758e-03   4.94120470e-03  -1.14237770e-02  -1.04808987e-02\n",
      "  -6.44321187e-03  -1.65722884e-02   9.73119677e-03  -2.09458548e-04\n",
      "  -1.83174579e-02   2.84748273e-02  -2.45020847e-02   1.36403719e-02\n",
      "   1.56563774e-02   7.92336780e-03   3.46136089e-03   5.63856034e-03\n",
      "   4.05820357e-03  -6.42862298e-03  -7.74930731e-03   5.42563921e-03\n",
      "   1.07325631e-02   2.82228679e-03   1.19894539e-02   2.39321109e-02\n",
      "  -7.61461990e-05  -6.25890024e-03  -3.80216924e-02  -1.22922709e-02\n",
      "  -8.53641343e-03   6.48352128e-03  -2.12309216e-03  -1.75740616e-02\n",
      "   2.35720594e-02   1.36934495e-02   6.83679548e-03  -1.92368800e-02\n",
      "   1.10112361e-02   2.82413950e-02  -2.88313665e-02   1.67532731e-02\n",
      "  -5.09981080e-03  -4.31815615e-02  -2.69912092e-02  -7.42601302e-05\n",
      "   6.34827065e-03   1.88546856e-02   3.58638395e-03  -8.64529201e-03\n",
      "   3.39556173e-02   5.32652617e-03  -1.75664009e-02   8.76121229e-03\n",
      "  -5.72886832e-04  -2.59188102e-03   6.81008668e-03  -1.42537419e-04\n",
      "   7.01728573e-03  -3.99191514e-04  -8.28238021e-04  -1.11557738e-02\n",
      "  -9.28020756e-03  -1.17148726e-02   1.40544263e-02   5.75469597e-04\n",
      "  -1.28974213e-02  -1.18668578e-02  -8.79323889e-03   3.71621451e-02\n",
      "   5.40707812e-04   1.18173606e-02   9.93572286e-03   7.54996858e-04\n",
      "   1.04714727e-02   6.74647155e-03   1.42803328e-02  -8.19418948e-03\n",
      "   1.26562634e-02   6.71683627e-03   8.80514714e-03  -2.78470529e-03\n",
      "   4.38917017e-04  -5.41237121e-02  -1.60967583e-03  -2.92085950e-02\n",
      "  -3.73422452e-02   1.20080925e-02  -4.40950271e-05   1.76947559e-02\n",
      "  -6.01887280e-03  -1.29378078e-02   2.71554640e-03   2.25870020e-03\n",
      "  -6.18317974e-03   3.34158345e-03   2.88482548e-02  -3.32357100e-02\n",
      "   7.25871883e-03  -1.78494235e-02  -1.17947428e-02  -1.94793007e-03\n",
      "  -1.62858248e-02   4.95261668e-03  -5.03740374e-03  -1.17208158e-03\n",
      "   5.08899405e-03  -2.27036996e-02  -1.32771498e-03  -7.28675467e-03\n",
      "   1.30284691e-02   2.28981342e-02  -7.93242411e-03  -5.70141868e-03\n",
      "  -1.27486036e-02   6.64468707e-03   8.89119666e-03  -3.06209787e-03\n",
      "   1.07621591e-02   2.43170010e-02   5.84128694e-03   1.27611680e-02\n",
      "   9.34064610e-03  -1.02843938e-02  -2.86589836e-02  -7.94245121e-03\n",
      "   4.66939308e-03  -1.55296976e-02   1.90258005e-02  -1.16150824e-02\n",
      "   1.39266871e-02  -5.35103252e-02   7.91880262e-03   2.50576514e-02\n",
      "  -1.16867867e-02   1.51801330e-02  -2.53686704e-02  -2.78234971e-03\n",
      "  -2.34246249e-02   1.62452659e-03  -2.42171351e-02   1.71080855e-02\n",
      "  -6.62545770e-02  -1.69350579e-02  -5.45927705e-02   7.85452591e-02\n",
      "  -3.09569969e-02   7.40684661e-02   4.05393871e-02  -3.99066270e-03\n",
      "  -3.51672465e-03  -2.02053996e-03  -3.78652500e-02  -1.02041878e-02\n",
      "  -2.99830396e-03   3.98460946e-02  -8.22789377e-03  -1.75007737e-02\n",
      "  -3.59984494e-04   5.79935388e-02   1.00037315e-02  -1.14984070e-02\n",
      "  -1.73906363e-02  -3.00068893e-02   2.07603945e-03   4.32201020e-02\n",
      "   4.37878440e-02  -3.52582888e-03  -8.38063920e-03   1.67413511e-03\n",
      "   1.77098145e-02   2.11291355e-02   6.89641286e-03  -1.37160536e-02\n",
      "  -1.23746265e-02  -2.48674549e-02  -7.99784354e-03   3.75745883e-02\n",
      "   4.35632844e-03  -8.64838465e-03  -1.97206320e-02  -4.03415145e-02\n",
      "  -1.99909697e-02   1.21373490e-02   5.21521076e-02   7.49675458e-02\n",
      "  -8.41314958e-03  -1.02901959e-02   2.87858950e-02   5.18384183e-03\n",
      "  -2.67086340e-03   1.13655640e-02   8.63394824e-03  -1.23395522e-02\n",
      "  -7.10977916e-03   1.33365976e-02   9.87866402e-03  -1.58857513e-03\n",
      "   3.00229543e-02  -2.52829887e-02   3.03345666e-03   1.97731625e-02\n",
      "  -3.61680759e-03  -4.14755028e-02  -3.86130842e-02   9.34384448e-03\n",
      "   2.32243826e-02  -1.28286579e-02   2.46605067e-02   1.61187858e-02\n",
      "  -1.02651671e-02  -1.92897786e-03   1.85447378e-02  -1.28191758e-02\n",
      "   7.33062066e-04  -1.36140519e-02  -2.26022645e-02  -7.44728359e-04\n",
      "  -2.28858521e-02   1.21284137e-04  -6.95298307e-03   4.65214476e-03\n",
      "   2.18217498e-02   1.42075934e-02   8.63907745e-03   2.59105147e-02\n",
      "  -6.47610225e-03  -3.37448709e-03  -3.18571537e-03  -1.04968522e-02\n",
      "  -2.01973584e-03   1.86070292e-02  -2.21715662e-02  -1.99594559e-03\n",
      "  -2.22583971e-02   6.31534435e-03  -5.93408795e-03  -1.80598453e-02\n",
      "   3.03865425e-02   3.91539163e-02   1.78513720e-03   1.08879491e-02\n",
      "  -2.36968429e-03  -1.53511546e-02   1.73145331e-02   2.79882112e-04]\n"
     ]
    }
   ],
   "source": [
    "ls_symbols=['AAPL','GOOG','YHOO','MSFT']\n",
    "ls_allocs=[0.1,0.1,0.7,0.1]\n",
    "dt_start=dt.datetime(2011,1,1)\n",
    "dt_end=dt.datetime(2011,12,31)\n",
    "dt_timeofday=dt.timedelta(hours=16)\n",
    "ldt_timestamps=du.getNYSEdays(dt_start,dt_end,dt_timeofday)\n",
    "c_dataObj=da.DataAccess('Yahoo',cachestalltime=0)\n",
    "ls_keys=['open','high','low','close','volume','actual_close']\n",
    "ldf_data=c_dataObj.get_data(ldt_timestamps,ls_symbols,ls_keys)\n",
    "d_data=dict(zip(ls_keys,ldf_data))\n",
    "df_rets=d_data['close'].copy()\n",
    "df_rets=df_rets.fillna(method='ffill')\n",
    "na_rets=df_rets.values\n",
    "daily_vol = d_data['volume'].values\n",
    "daily_close = d_data['close'].values\n",
    "daily_returns=tsu.returnize0(na_rets)\n",
    "daily_portf_rets=np.sum(daily_returns*ls_allocs,axis=1)\n",
    "daily_std_dev_rets=np.std(daily_portf_rets)\n",
    "cum_port_rets=np.cumprod(daily_portf_rets+1)\n",
    "sharpe_ratio=(daily_portf_rets-0)/daily_std_dev_rets\n",
    "print daily_portf_rets"
   ]
  },
  {
   "cell_type": "code",
   "execution_count": 44,
   "metadata": {
    "collapsed": false
   },
   "outputs": [
    {
     "name": "stdout",
     "output_type": "stream",
     "text": [
      "[[ 0.          0.          0.          0.        ]\n",
      " [ 0.00521087 -0.00368991 -0.00955224  0.00411677]\n",
      " [ 0.00818504  0.01154255  0.01928873 -0.00335445]\n",
      " ..., \n",
      " [-0.00956051 -0.00085904 -0.01926663 -0.00822562]\n",
      " [ 0.00616083  0.00422073  0.02217997  0.00750395]\n",
      " [-0.00029748  0.00544832  0.         -0.00235202]]\n"
     ]
    }
   ],
   "source": []
  },
  {
   "cell_type": "code",
   "execution_count": null,
   "metadata": {
    "collapsed": true
   },
   "outputs": [],
   "source": []
  }
 ],
 "metadata": {
  "kernelspec": {
   "display_name": "Python 2",
   "language": "python",
   "name": "python2"
  },
  "language_info": {
   "codemirror_mode": {
    "name": "ipython",
    "version": 2
   },
   "file_extension": ".py",
   "mimetype": "text/x-python",
   "name": "python",
   "nbconvert_exporter": "python",
   "pygments_lexer": "ipython2",
   "version": "2.7.11"
  }
 },
 "nbformat": 4,
 "nbformat_minor": 0
}
