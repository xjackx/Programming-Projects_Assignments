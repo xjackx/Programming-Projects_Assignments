{
 "cells": [
  {
   "cell_type": "code",
   "execution_count": 69,
   "metadata": {
    "collapsed": false
   },
   "outputs": [],
   "source": [
    "from __future__ import division\n",
    "import numpy as np\n",
    "import pandas as pd\n",
    "from pandas import Series,DataFrame\n",
    "import matplotlib as matplot\n",
    "from math import ceil,floor\n",
    "import seaborn as sns"
   ]
  },
  {
   "cell_type": "code",
   "execution_count": 70,
   "metadata": {
    "collapsed": true
   },
   "outputs": [],
   "source": [
    "%matplotlib inline"
   ]
  },
  {
   "cell_type": "code",
   "execution_count": 71,
   "metadata": {
    "collapsed": false
   },
   "outputs": [],
   "source": [
    "df=pd.read_csv(r'C:\\Users\\ranbir\\OneDrive - University of Stirling\\IceRobotics\\Data\\20_07\\20_07_3_day_window.csv',header='infer',parse_dates=True,infer_datetime_format=True)"
   ]
  },
  {
   "cell_type": "code",
   "execution_count": 72,
   "metadata": {
    "collapsed": false
   },
   "outputs": [
    {
     "data": {
      "text/plain": [
       "subject                 object\n",
       "start                   object\n",
       "mi                     float64\n",
       "steps                  float64\n",
       "Standing time          float64\n",
       "lying time               int64\n",
       "standing change        float64\n",
       "actual calving date     object\n",
       "calving time            object\n",
       "stand state            float64\n",
       "lying bouts            float64\n",
       "dtype: object"
      ]
     },
     "execution_count": 72,
     "metadata": {},
     "output_type": "execute_result"
    }
   ],
   "source": [
    "df.dtypes"
   ]
  },
  {
   "cell_type": "code",
   "execution_count": 73,
   "metadata": {
    "collapsed": false
   },
   "outputs": [
    {
     "data": {
      "text/html": [
       "<div>\n",
       "<table border=\"1\" class=\"dataframe\">\n",
       "  <thead>\n",
       "    <tr style=\"text-align: right;\">\n",
       "      <th></th>\n",
       "      <th>subject</th>\n",
       "      <th>start</th>\n",
       "      <th>mi</th>\n",
       "      <th>steps</th>\n",
       "      <th>Standing time</th>\n",
       "      <th>lying time</th>\n",
       "      <th>standing change</th>\n",
       "      <th>actual calving date</th>\n",
       "      <th>calving time</th>\n",
       "      <th>stand state</th>\n",
       "      <th>lying bouts</th>\n",
       "    </tr>\n",
       "  </thead>\n",
       "  <tbody>\n",
       "    <tr>\n",
       "      <th>0</th>\n",
       "      <td>2609BL</td>\n",
       "      <td>06/06/2016 00:00</td>\n",
       "      <td>0.0</td>\n",
       "      <td>0.0</td>\n",
       "      <td>0.0</td>\n",
       "      <td>900</td>\n",
       "      <td>0.0</td>\n",
       "      <td>08/06/2016</td>\n",
       "      <td>10:18:00</td>\n",
       "      <td>0.0</td>\n",
       "      <td>0.0</td>\n",
       "    </tr>\n",
       "    <tr>\n",
       "      <th>1</th>\n",
       "      <td>2609BL</td>\n",
       "      <td>06/06/2016 00:15</td>\n",
       "      <td>10.0</td>\n",
       "      <td>0.0</td>\n",
       "      <td>73.0</td>\n",
       "      <td>900</td>\n",
       "      <td>2.0</td>\n",
       "      <td>08/06/2016</td>\n",
       "      <td>10:18:00</td>\n",
       "      <td>0.0</td>\n",
       "      <td>1.0</td>\n",
       "    </tr>\n",
       "    <tr>\n",
       "      <th>2</th>\n",
       "      <td>2609BL</td>\n",
       "      <td>06/06/2016 00:30</td>\n",
       "      <td>0.0</td>\n",
       "      <td>0.0</td>\n",
       "      <td>0.0</td>\n",
       "      <td>827</td>\n",
       "      <td>0.0</td>\n",
       "      <td>08/06/2016</td>\n",
       "      <td>10:18:00</td>\n",
       "      <td>0.0</td>\n",
       "      <td>0.0</td>\n",
       "    </tr>\n",
       "    <tr>\n",
       "      <th>3</th>\n",
       "      <td>2609BL</td>\n",
       "      <td>06/06/2016 00:45</td>\n",
       "      <td>0.0</td>\n",
       "      <td>0.0</td>\n",
       "      <td>0.0</td>\n",
       "      <td>900</td>\n",
       "      <td>0.0</td>\n",
       "      <td>08/06/2016</td>\n",
       "      <td>10:18:00</td>\n",
       "      <td>0.0</td>\n",
       "      <td>0.0</td>\n",
       "    </tr>\n",
       "    <tr>\n",
       "      <th>4</th>\n",
       "      <td>2609BL</td>\n",
       "      <td>06/06/2016 01:00</td>\n",
       "      <td>3.0</td>\n",
       "      <td>0.0</td>\n",
       "      <td>0.0</td>\n",
       "      <td>900</td>\n",
       "      <td>0.0</td>\n",
       "      <td>08/06/2016</td>\n",
       "      <td>10:18:00</td>\n",
       "      <td>0.0</td>\n",
       "      <td>0.0</td>\n",
       "    </tr>\n",
       "  </tbody>\n",
       "</table>\n",
       "</div>"
      ],
      "text/plain": [
       "  subject             start    mi  steps  Standing time  lying time  \\\n",
       "0  2609BL  06/06/2016 00:00   0.0    0.0            0.0         900   \n",
       "1  2609BL  06/06/2016 00:15  10.0    0.0           73.0         900   \n",
       "2  2609BL  06/06/2016 00:30   0.0    0.0            0.0         827   \n",
       "3  2609BL  06/06/2016 00:45   0.0    0.0            0.0         900   \n",
       "4  2609BL  06/06/2016 01:00   3.0    0.0            0.0         900   \n",
       "\n",
       "   standing change actual calving date calving time  stand state  lying bouts  \n",
       "0              0.0          08/06/2016     10:18:00          0.0          0.0  \n",
       "1              2.0          08/06/2016     10:18:00          0.0          1.0  \n",
       "2              0.0          08/06/2016     10:18:00          0.0          0.0  \n",
       "3              0.0          08/06/2016     10:18:00          0.0          0.0  \n",
       "4              0.0          08/06/2016     10:18:00          0.0          0.0  "
      ]
     },
     "execution_count": 73,
     "metadata": {},
     "output_type": "execute_result"
    }
   ],
   "source": [
    "df.head()"
   ]
  },
  {
   "cell_type": "code",
   "execution_count": 74,
   "metadata": {
    "collapsed": true
   },
   "outputs": [],
   "source": [
    "#delete lying bouts- was created while testing a formula in excel\n",
    "del df['lying bouts']"
   ]
  },
  {
   "cell_type": "code",
   "execution_count": 75,
   "metadata": {
    "collapsed": false
   },
   "outputs": [
    {
     "data": {
      "text/html": [
       "<div>\n",
       "<table border=\"1\" class=\"dataframe\">\n",
       "  <thead>\n",
       "    <tr style=\"text-align: right;\">\n",
       "      <th></th>\n",
       "      <th>subject</th>\n",
       "      <th>start</th>\n",
       "      <th>mi</th>\n",
       "      <th>steps</th>\n",
       "      <th>Standing time</th>\n",
       "      <th>lying time</th>\n",
       "      <th>standing change</th>\n",
       "      <th>actual calving date</th>\n",
       "      <th>calving time</th>\n",
       "      <th>stand state</th>\n",
       "    </tr>\n",
       "  </thead>\n",
       "  <tbody>\n",
       "    <tr>\n",
       "      <th>0</th>\n",
       "      <td>2609BL</td>\n",
       "      <td>06/06/2016 00:00</td>\n",
       "      <td>0.0</td>\n",
       "      <td>0.0</td>\n",
       "      <td>0.0</td>\n",
       "      <td>900</td>\n",
       "      <td>0.0</td>\n",
       "      <td>08/06/2016</td>\n",
       "      <td>10:18:00</td>\n",
       "      <td>0.0</td>\n",
       "    </tr>\n",
       "    <tr>\n",
       "      <th>1</th>\n",
       "      <td>2609BL</td>\n",
       "      <td>06/06/2016 00:15</td>\n",
       "      <td>10.0</td>\n",
       "      <td>0.0</td>\n",
       "      <td>73.0</td>\n",
       "      <td>900</td>\n",
       "      <td>2.0</td>\n",
       "      <td>08/06/2016</td>\n",
       "      <td>10:18:00</td>\n",
       "      <td>0.0</td>\n",
       "    </tr>\n",
       "    <tr>\n",
       "      <th>2</th>\n",
       "      <td>2609BL</td>\n",
       "      <td>06/06/2016 00:30</td>\n",
       "      <td>0.0</td>\n",
       "      <td>0.0</td>\n",
       "      <td>0.0</td>\n",
       "      <td>827</td>\n",
       "      <td>0.0</td>\n",
       "      <td>08/06/2016</td>\n",
       "      <td>10:18:00</td>\n",
       "      <td>0.0</td>\n",
       "    </tr>\n",
       "    <tr>\n",
       "      <th>3</th>\n",
       "      <td>2609BL</td>\n",
       "      <td>06/06/2016 00:45</td>\n",
       "      <td>0.0</td>\n",
       "      <td>0.0</td>\n",
       "      <td>0.0</td>\n",
       "      <td>900</td>\n",
       "      <td>0.0</td>\n",
       "      <td>08/06/2016</td>\n",
       "      <td>10:18:00</td>\n",
       "      <td>0.0</td>\n",
       "    </tr>\n",
       "    <tr>\n",
       "      <th>4</th>\n",
       "      <td>2609BL</td>\n",
       "      <td>06/06/2016 01:00</td>\n",
       "      <td>3.0</td>\n",
       "      <td>0.0</td>\n",
       "      <td>0.0</td>\n",
       "      <td>900</td>\n",
       "      <td>0.0</td>\n",
       "      <td>08/06/2016</td>\n",
       "      <td>10:18:00</td>\n",
       "      <td>0.0</td>\n",
       "    </tr>\n",
       "  </tbody>\n",
       "</table>\n",
       "</div>"
      ],
      "text/plain": [
       "  subject             start    mi  steps  Standing time  lying time  \\\n",
       "0  2609BL  06/06/2016 00:00   0.0    0.0            0.0         900   \n",
       "1  2609BL  06/06/2016 00:15  10.0    0.0           73.0         900   \n",
       "2  2609BL  06/06/2016 00:30   0.0    0.0            0.0         827   \n",
       "3  2609BL  06/06/2016 00:45   0.0    0.0            0.0         900   \n",
       "4  2609BL  06/06/2016 01:00   3.0    0.0            0.0         900   \n",
       "\n",
       "   standing change actual calving date calving time  stand state  \n",
       "0              0.0          08/06/2016     10:18:00          0.0  \n",
       "1              2.0          08/06/2016     10:18:00          0.0  \n",
       "2              0.0          08/06/2016     10:18:00          0.0  \n",
       "3              0.0          08/06/2016     10:18:00          0.0  \n",
       "4              0.0          08/06/2016     10:18:00          0.0  "
      ]
     },
     "execution_count": 75,
     "metadata": {},
     "output_type": "execute_result"
    }
   ],
   "source": [
    "df.head()"
   ]
  },
  {
   "cell_type": "code",
   "execution_count": 76,
   "metadata": {
    "collapsed": false
   },
   "outputs": [],
   "source": [
    "#calculate the lying bouts based on 'Stand Start' and number of transitions - 'standing change'\n",
    "def lying_bouts(stdStart,stdChange):\n",
    "    #case:lying down for the whole 15:00 mins\n",
    "    if stdStart == 0:\n",
    "        return floor(stdChange/2)\n",
    "    elif stdStart == 1:\n",
    "        return ceil(stdChange/2)\n",
    "    else:\n",
    "        return 0\n",
    "        "
   ]
  },
  {
   "cell_type": "code",
   "execution_count": 77,
   "metadata": {
    "collapsed": false
   },
   "outputs": [
    {
     "name": "stdout",
     "output_type": "stream",
     "text": [
      "0 initial, 0 transitions: 0.0 lying bouts\n",
      "1 initial, 0 transitions: 0.0 lying bouts\n",
      "0 initial, even transitions: 2.0 lying bouts\n",
      "0 initial, odd transitions: 1.0 lying bouts\n",
      "1 initial, even transitions: 2.0 lying bouts\n",
      "1 initial, odd transitions: 2.0 lying bouts\n"
     ]
    }
   ],
   "source": [
    "print \"0 initial, 0 transitions:\",lying_bouts(0,0),\"lying bouts\"\n",
    "print \"1 initial, 0 transitions:\",lying_bouts(1,0),\"lying bouts\"\n",
    "print \"0 initial, even transitions:\",lying_bouts(0,4),\"lying bouts\"\n",
    "print \"0 initial, odd transitions:\",lying_bouts(0,3),\"lying bouts\"\n",
    "print \"1 initial, even transitions:\",lying_bouts(1,4),\"lying bouts\"\n",
    "print \"1 initial, odd transitions:\",lying_bouts(1,3),\"lying bouts\""
   ]
  },
  {
   "cell_type": "code",
   "execution_count": 78,
   "metadata": {
    "collapsed": false,
    "scrolled": true
   },
   "outputs": [],
   "source": [
    "df['lying bouts']=df.apply(lambda row:lying_bouts(row['stand state'],row['standing change']),axis=1)"
   ]
  },
  {
   "cell_type": "code",
   "execution_count": 79,
   "metadata": {
    "collapsed": false
   },
   "outputs": [
    {
     "data": {
      "text/html": [
       "<div>\n",
       "<table border=\"1\" class=\"dataframe\">\n",
       "  <thead>\n",
       "    <tr style=\"text-align: right;\">\n",
       "      <th></th>\n",
       "      <th>subject</th>\n",
       "      <th>start</th>\n",
       "      <th>mi</th>\n",
       "      <th>steps</th>\n",
       "      <th>Standing time</th>\n",
       "      <th>lying time</th>\n",
       "      <th>standing change</th>\n",
       "      <th>actual calving date</th>\n",
       "      <th>calving time</th>\n",
       "      <th>stand state</th>\n",
       "      <th>lying bouts</th>\n",
       "    </tr>\n",
       "  </thead>\n",
       "  <tbody>\n",
       "    <tr>\n",
       "      <th>0</th>\n",
       "      <td>2609BL</td>\n",
       "      <td>06/06/2016 00:00</td>\n",
       "      <td>0.0</td>\n",
       "      <td>0.0</td>\n",
       "      <td>0.0</td>\n",
       "      <td>900</td>\n",
       "      <td>0.0</td>\n",
       "      <td>08/06/2016</td>\n",
       "      <td>10:18:00</td>\n",
       "      <td>0.0</td>\n",
       "      <td>0.0</td>\n",
       "    </tr>\n",
       "    <tr>\n",
       "      <th>1</th>\n",
       "      <td>2609BL</td>\n",
       "      <td>06/06/2016 00:15</td>\n",
       "      <td>10.0</td>\n",
       "      <td>0.0</td>\n",
       "      <td>73.0</td>\n",
       "      <td>900</td>\n",
       "      <td>2.0</td>\n",
       "      <td>08/06/2016</td>\n",
       "      <td>10:18:00</td>\n",
       "      <td>0.0</td>\n",
       "      <td>1.0</td>\n",
       "    </tr>\n",
       "    <tr>\n",
       "      <th>2</th>\n",
       "      <td>2609BL</td>\n",
       "      <td>06/06/2016 00:30</td>\n",
       "      <td>0.0</td>\n",
       "      <td>0.0</td>\n",
       "      <td>0.0</td>\n",
       "      <td>827</td>\n",
       "      <td>0.0</td>\n",
       "      <td>08/06/2016</td>\n",
       "      <td>10:18:00</td>\n",
       "      <td>0.0</td>\n",
       "      <td>0.0</td>\n",
       "    </tr>\n",
       "    <tr>\n",
       "      <th>3</th>\n",
       "      <td>2609BL</td>\n",
       "      <td>06/06/2016 00:45</td>\n",
       "      <td>0.0</td>\n",
       "      <td>0.0</td>\n",
       "      <td>0.0</td>\n",
       "      <td>900</td>\n",
       "      <td>0.0</td>\n",
       "      <td>08/06/2016</td>\n",
       "      <td>10:18:00</td>\n",
       "      <td>0.0</td>\n",
       "      <td>0.0</td>\n",
       "    </tr>\n",
       "    <tr>\n",
       "      <th>4</th>\n",
       "      <td>2609BL</td>\n",
       "      <td>06/06/2016 01:00</td>\n",
       "      <td>3.0</td>\n",
       "      <td>0.0</td>\n",
       "      <td>0.0</td>\n",
       "      <td>900</td>\n",
       "      <td>0.0</td>\n",
       "      <td>08/06/2016</td>\n",
       "      <td>10:18:00</td>\n",
       "      <td>0.0</td>\n",
       "      <td>0.0</td>\n",
       "    </tr>\n",
       "  </tbody>\n",
       "</table>\n",
       "</div>"
      ],
      "text/plain": [
       "  subject             start    mi  steps  Standing time  lying time  \\\n",
       "0  2609BL  06/06/2016 00:00   0.0    0.0            0.0         900   \n",
       "1  2609BL  06/06/2016 00:15  10.0    0.0           73.0         900   \n",
       "2  2609BL  06/06/2016 00:30   0.0    0.0            0.0         827   \n",
       "3  2609BL  06/06/2016 00:45   0.0    0.0            0.0         900   \n",
       "4  2609BL  06/06/2016 01:00   3.0    0.0            0.0         900   \n",
       "\n",
       "   standing change actual calving date calving time  stand state  lying bouts  \n",
       "0              0.0          08/06/2016     10:18:00          0.0          0.0  \n",
       "1              2.0          08/06/2016     10:18:00          0.0          1.0  \n",
       "2              0.0          08/06/2016     10:18:00          0.0          0.0  \n",
       "3              0.0          08/06/2016     10:18:00          0.0          0.0  \n",
       "4              0.0          08/06/2016     10:18:00          0.0          0.0  "
      ]
     },
     "execution_count": 79,
     "metadata": {},
     "output_type": "execute_result"
    }
   ],
   "source": [
    "df.head()"
   ]
  },
  {
   "cell_type": "code",
   "execution_count": 80,
   "metadata": {
    "collapsed": false
   },
   "outputs": [
    {
     "data": {
      "text/html": [
       "<div>\n",
       "<table border=\"1\" class=\"dataframe\">\n",
       "  <thead>\n",
       "    <tr style=\"text-align: right;\">\n",
       "      <th></th>\n",
       "      <th>mi</th>\n",
       "      <th>steps</th>\n",
       "      <th>Standing time</th>\n",
       "      <th>lying time</th>\n",
       "      <th>standing change</th>\n",
       "      <th>stand state</th>\n",
       "      <th>lying bouts</th>\n",
       "    </tr>\n",
       "  </thead>\n",
       "  <tbody>\n",
       "    <tr>\n",
       "      <th>count</th>\n",
       "      <td>28126.000000</td>\n",
       "      <td>28126.000000</td>\n",
       "      <td>28126.000000</td>\n",
       "      <td>28127.000000</td>\n",
       "      <td>28126.000000</td>\n",
       "      <td>28126.000000</td>\n",
       "      <td>28127.000000</td>\n",
       "    </tr>\n",
       "    <tr>\n",
       "      <th>mean</th>\n",
       "      <td>36.851028</td>\n",
       "      <td>9.832539</td>\n",
       "      <td>449.820486</td>\n",
       "      <td>450.195506</td>\n",
       "      <td>0.319313</td>\n",
       "      <td>0.497120</td>\n",
       "      <td>0.159135</td>\n",
       "    </tr>\n",
       "    <tr>\n",
       "      <th>std</th>\n",
       "      <td>72.540206</td>\n",
       "      <td>20.696082</td>\n",
       "      <td>409.421952</td>\n",
       "      <td>409.423459</td>\n",
       "      <td>0.617356</td>\n",
       "      <td>0.500001</td>\n",
       "      <td>0.384109</td>\n",
       "    </tr>\n",
       "    <tr>\n",
       "      <th>min</th>\n",
       "      <td>0.000000</td>\n",
       "      <td>0.000000</td>\n",
       "      <td>0.000000</td>\n",
       "      <td>0.000000</td>\n",
       "      <td>0.000000</td>\n",
       "      <td>0.000000</td>\n",
       "      <td>0.000000</td>\n",
       "    </tr>\n",
       "    <tr>\n",
       "      <th>25%</th>\n",
       "      <td>NaN</td>\n",
       "      <td>NaN</td>\n",
       "      <td>NaN</td>\n",
       "      <td>0.000000</td>\n",
       "      <td>NaN</td>\n",
       "      <td>NaN</td>\n",
       "      <td>0.000000</td>\n",
       "    </tr>\n",
       "    <tr>\n",
       "      <th>50%</th>\n",
       "      <td>NaN</td>\n",
       "      <td>NaN</td>\n",
       "      <td>NaN</td>\n",
       "      <td>459.000000</td>\n",
       "      <td>NaN</td>\n",
       "      <td>NaN</td>\n",
       "      <td>0.000000</td>\n",
       "    </tr>\n",
       "    <tr>\n",
       "      <th>75%</th>\n",
       "      <td>NaN</td>\n",
       "      <td>NaN</td>\n",
       "      <td>NaN</td>\n",
       "      <td>900.000000</td>\n",
       "      <td>NaN</td>\n",
       "      <td>NaN</td>\n",
       "      <td>0.000000</td>\n",
       "    </tr>\n",
       "    <tr>\n",
       "      <th>max</th>\n",
       "      <td>1219.000000</td>\n",
       "      <td>351.000000</td>\n",
       "      <td>900.000000</td>\n",
       "      <td>900.000000</td>\n",
       "      <td>9.000000</td>\n",
       "      <td>1.000000</td>\n",
       "      <td>4.000000</td>\n",
       "    </tr>\n",
       "  </tbody>\n",
       "</table>\n",
       "</div>"
      ],
      "text/plain": [
       "                 mi         steps  Standing time    lying time  \\\n",
       "count  28126.000000  28126.000000   28126.000000  28127.000000   \n",
       "mean      36.851028      9.832539     449.820486    450.195506   \n",
       "std       72.540206     20.696082     409.421952    409.423459   \n",
       "min        0.000000      0.000000       0.000000      0.000000   \n",
       "25%             NaN           NaN            NaN      0.000000   \n",
       "50%             NaN           NaN            NaN    459.000000   \n",
       "75%             NaN           NaN            NaN    900.000000   \n",
       "max     1219.000000    351.000000     900.000000    900.000000   \n",
       "\n",
       "       standing change   stand state   lying bouts  \n",
       "count     28126.000000  28126.000000  28127.000000  \n",
       "mean          0.319313      0.497120      0.159135  \n",
       "std           0.617356      0.500001      0.384109  \n",
       "min           0.000000      0.000000      0.000000  \n",
       "25%                NaN           NaN      0.000000  \n",
       "50%                NaN           NaN      0.000000  \n",
       "75%                NaN           NaN      0.000000  \n",
       "max           9.000000      1.000000      4.000000  "
      ]
     },
     "execution_count": 80,
     "metadata": {},
     "output_type": "execute_result"
    }
   ],
   "source": [
    "df.describe()"
   ]
  },
  {
   "cell_type": "code",
   "execution_count": 81,
   "metadata": {
    "collapsed": false
   },
   "outputs": [],
   "source": [
    "df['start']=pd.to_datetime(df['start'])"
   ]
  },
  {
   "cell_type": "code",
   "execution_count": 82,
   "metadata": {
    "collapsed": false
   },
   "outputs": [
    {
     "data": {
      "text/plain": [
       "subject                        object\n",
       "start                  datetime64[ns]\n",
       "mi                            float64\n",
       "steps                         float64\n",
       "Standing time                 float64\n",
       "lying time                      int64\n",
       "standing change               float64\n",
       "actual calving date            object\n",
       "calving time                   object\n",
       "stand state                   float64\n",
       "lying bouts                   float64\n",
       "dtype: object"
      ]
     },
     "execution_count": 82,
     "metadata": {},
     "output_type": "execute_result"
    }
   ],
   "source": [
    "df.dtypes"
   ]
  },
  {
   "cell_type": "code",
   "execution_count": 83,
   "metadata": {
    "collapsed": false
   },
   "outputs": [
    {
     "data": {
      "text/html": [
       "<div>\n",
       "<table border=\"1\" class=\"dataframe\">\n",
       "  <thead>\n",
       "    <tr style=\"text-align: right;\">\n",
       "      <th></th>\n",
       "      <th>mi</th>\n",
       "      <th>steps</th>\n",
       "      <th>Standing time</th>\n",
       "      <th>lying time</th>\n",
       "      <th>standing change</th>\n",
       "      <th>stand state</th>\n",
       "      <th>lying bouts</th>\n",
       "    </tr>\n",
       "  </thead>\n",
       "  <tbody>\n",
       "    <tr>\n",
       "      <th>count</th>\n",
       "      <td>28126.000000</td>\n",
       "      <td>28126.000000</td>\n",
       "      <td>28126.000000</td>\n",
       "      <td>28127.000000</td>\n",
       "      <td>28126.000000</td>\n",
       "      <td>28126.000000</td>\n",
       "      <td>28127.000000</td>\n",
       "    </tr>\n",
       "    <tr>\n",
       "      <th>mean</th>\n",
       "      <td>36.851028</td>\n",
       "      <td>9.832539</td>\n",
       "      <td>449.820486</td>\n",
       "      <td>450.195506</td>\n",
       "      <td>0.319313</td>\n",
       "      <td>0.497120</td>\n",
       "      <td>0.159135</td>\n",
       "    </tr>\n",
       "    <tr>\n",
       "      <th>std</th>\n",
       "      <td>72.540206</td>\n",
       "      <td>20.696082</td>\n",
       "      <td>409.421952</td>\n",
       "      <td>409.423459</td>\n",
       "      <td>0.617356</td>\n",
       "      <td>0.500001</td>\n",
       "      <td>0.384109</td>\n",
       "    </tr>\n",
       "    <tr>\n",
       "      <th>min</th>\n",
       "      <td>0.000000</td>\n",
       "      <td>0.000000</td>\n",
       "      <td>0.000000</td>\n",
       "      <td>0.000000</td>\n",
       "      <td>0.000000</td>\n",
       "      <td>0.000000</td>\n",
       "      <td>0.000000</td>\n",
       "    </tr>\n",
       "    <tr>\n",
       "      <th>25%</th>\n",
       "      <td>NaN</td>\n",
       "      <td>NaN</td>\n",
       "      <td>NaN</td>\n",
       "      <td>0.000000</td>\n",
       "      <td>NaN</td>\n",
       "      <td>NaN</td>\n",
       "      <td>0.000000</td>\n",
       "    </tr>\n",
       "    <tr>\n",
       "      <th>50%</th>\n",
       "      <td>NaN</td>\n",
       "      <td>NaN</td>\n",
       "      <td>NaN</td>\n",
       "      <td>459.000000</td>\n",
       "      <td>NaN</td>\n",
       "      <td>NaN</td>\n",
       "      <td>0.000000</td>\n",
       "    </tr>\n",
       "    <tr>\n",
       "      <th>75%</th>\n",
       "      <td>NaN</td>\n",
       "      <td>NaN</td>\n",
       "      <td>NaN</td>\n",
       "      <td>900.000000</td>\n",
       "      <td>NaN</td>\n",
       "      <td>NaN</td>\n",
       "      <td>0.000000</td>\n",
       "    </tr>\n",
       "    <tr>\n",
       "      <th>max</th>\n",
       "      <td>1219.000000</td>\n",
       "      <td>351.000000</td>\n",
       "      <td>900.000000</td>\n",
       "      <td>900.000000</td>\n",
       "      <td>9.000000</td>\n",
       "      <td>1.000000</td>\n",
       "      <td>4.000000</td>\n",
       "    </tr>\n",
       "  </tbody>\n",
       "</table>\n",
       "</div>"
      ],
      "text/plain": [
       "                 mi         steps  Standing time    lying time  \\\n",
       "count  28126.000000  28126.000000   28126.000000  28127.000000   \n",
       "mean      36.851028      9.832539     449.820486    450.195506   \n",
       "std       72.540206     20.696082     409.421952    409.423459   \n",
       "min        0.000000      0.000000       0.000000      0.000000   \n",
       "25%             NaN           NaN            NaN      0.000000   \n",
       "50%             NaN           NaN            NaN    459.000000   \n",
       "75%             NaN           NaN            NaN    900.000000   \n",
       "max     1219.000000    351.000000     900.000000    900.000000   \n",
       "\n",
       "       standing change   stand state   lying bouts  \n",
       "count     28126.000000  28126.000000  28127.000000  \n",
       "mean          0.319313      0.497120      0.159135  \n",
       "std           0.617356      0.500001      0.384109  \n",
       "min           0.000000      0.000000      0.000000  \n",
       "25%                NaN           NaN      0.000000  \n",
       "50%                NaN           NaN      0.000000  \n",
       "75%                NaN           NaN      0.000000  \n",
       "max           9.000000      1.000000      4.000000  "
      ]
     },
     "execution_count": 83,
     "metadata": {},
     "output_type": "execute_result"
    }
   ],
   "source": [
    "df.describe()"
   ]
  },
  {
   "cell_type": "code",
   "execution_count": 84,
   "metadata": {
    "collapsed": false
   },
   "outputs": [],
   "source": [
    "df=df.set_index('start')"
   ]
  },
  {
   "cell_type": "code",
   "execution_count": 85,
   "metadata": {
    "collapsed": false
   },
   "outputs": [
    {
     "data": {
      "text/html": [
       "<div>\n",
       "<table border=\"1\" class=\"dataframe\">\n",
       "  <thead>\n",
       "    <tr style=\"text-align: right;\">\n",
       "      <th></th>\n",
       "      <th>subject</th>\n",
       "      <th>mi</th>\n",
       "      <th>steps</th>\n",
       "      <th>Standing time</th>\n",
       "      <th>lying time</th>\n",
       "      <th>standing change</th>\n",
       "      <th>actual calving date</th>\n",
       "      <th>calving time</th>\n",
       "      <th>stand state</th>\n",
       "      <th>lying bouts</th>\n",
       "    </tr>\n",
       "    <tr>\n",
       "      <th>start</th>\n",
       "      <th></th>\n",
       "      <th></th>\n",
       "      <th></th>\n",
       "      <th></th>\n",
       "      <th></th>\n",
       "      <th></th>\n",
       "      <th></th>\n",
       "      <th></th>\n",
       "      <th></th>\n",
       "      <th></th>\n",
       "    </tr>\n",
       "  </thead>\n",
       "  <tbody>\n",
       "    <tr>\n",
       "      <th>2016-06-06 00:00:00</th>\n",
       "      <td>2609BL</td>\n",
       "      <td>0.0</td>\n",
       "      <td>0.0</td>\n",
       "      <td>0.0</td>\n",
       "      <td>900</td>\n",
       "      <td>0.0</td>\n",
       "      <td>08/06/2016</td>\n",
       "      <td>10:18:00</td>\n",
       "      <td>0.0</td>\n",
       "      <td>0.0</td>\n",
       "    </tr>\n",
       "    <tr>\n",
       "      <th>2016-06-06 00:15:00</th>\n",
       "      <td>2609BL</td>\n",
       "      <td>10.0</td>\n",
       "      <td>0.0</td>\n",
       "      <td>73.0</td>\n",
       "      <td>900</td>\n",
       "      <td>2.0</td>\n",
       "      <td>08/06/2016</td>\n",
       "      <td>10:18:00</td>\n",
       "      <td>0.0</td>\n",
       "      <td>1.0</td>\n",
       "    </tr>\n",
       "    <tr>\n",
       "      <th>2016-06-06 00:30:00</th>\n",
       "      <td>2609BL</td>\n",
       "      <td>0.0</td>\n",
       "      <td>0.0</td>\n",
       "      <td>0.0</td>\n",
       "      <td>827</td>\n",
       "      <td>0.0</td>\n",
       "      <td>08/06/2016</td>\n",
       "      <td>10:18:00</td>\n",
       "      <td>0.0</td>\n",
       "      <td>0.0</td>\n",
       "    </tr>\n",
       "    <tr>\n",
       "      <th>2016-06-06 00:45:00</th>\n",
       "      <td>2609BL</td>\n",
       "      <td>0.0</td>\n",
       "      <td>0.0</td>\n",
       "      <td>0.0</td>\n",
       "      <td>900</td>\n",
       "      <td>0.0</td>\n",
       "      <td>08/06/2016</td>\n",
       "      <td>10:18:00</td>\n",
       "      <td>0.0</td>\n",
       "      <td>0.0</td>\n",
       "    </tr>\n",
       "    <tr>\n",
       "      <th>2016-06-06 01:00:00</th>\n",
       "      <td>2609BL</td>\n",
       "      <td>3.0</td>\n",
       "      <td>0.0</td>\n",
       "      <td>0.0</td>\n",
       "      <td>900</td>\n",
       "      <td>0.0</td>\n",
       "      <td>08/06/2016</td>\n",
       "      <td>10:18:00</td>\n",
       "      <td>0.0</td>\n",
       "      <td>0.0</td>\n",
       "    </tr>\n",
       "  </tbody>\n",
       "</table>\n",
       "</div>"
      ],
      "text/plain": [
       "                    subject    mi  steps  Standing time  lying time  \\\n",
       "start                                                                 \n",
       "2016-06-06 00:00:00  2609BL   0.0    0.0            0.0         900   \n",
       "2016-06-06 00:15:00  2609BL  10.0    0.0           73.0         900   \n",
       "2016-06-06 00:30:00  2609BL   0.0    0.0            0.0         827   \n",
       "2016-06-06 00:45:00  2609BL   0.0    0.0            0.0         900   \n",
       "2016-06-06 01:00:00  2609BL   3.0    0.0            0.0         900   \n",
       "\n",
       "                     standing change actual calving date calving time  \\\n",
       "start                                                                   \n",
       "2016-06-06 00:00:00              0.0          08/06/2016     10:18:00   \n",
       "2016-06-06 00:15:00              2.0          08/06/2016     10:18:00   \n",
       "2016-06-06 00:30:00              0.0          08/06/2016     10:18:00   \n",
       "2016-06-06 00:45:00              0.0          08/06/2016     10:18:00   \n",
       "2016-06-06 01:00:00              0.0          08/06/2016     10:18:00   \n",
       "\n",
       "                     stand state  lying bouts  \n",
       "start                                          \n",
       "2016-06-06 00:00:00          0.0          0.0  \n",
       "2016-06-06 00:15:00          0.0          1.0  \n",
       "2016-06-06 00:30:00          0.0          0.0  \n",
       "2016-06-06 00:45:00          0.0          0.0  \n",
       "2016-06-06 01:00:00          0.0          0.0  "
      ]
     },
     "execution_count": 85,
     "metadata": {},
     "output_type": "execute_result"
    }
   ],
   "source": [
    "df.head()"
   ]
  },
  {
   "cell_type": "code",
   "execution_count": 88,
   "metadata": {
    "collapsed": false
   },
   "outputs": [],
   "source": [
    "df.to_excel('lyingbouts20_07.xlsx')"
   ]
  },
  {
   "cell_type": "code",
   "execution_count": 97,
   "metadata": {
    "collapsed": false
   },
   "outputs": [
    {
     "name": "stdout",
     "output_type": "stream",
     "text": [
      "DatetimeIndex(['2016-06-06 00:00:00', '2016-06-06 00:15:00',\n",
      "               '2016-06-06 00:30:00', '2016-06-06 00:45:00',\n",
      "               '2016-06-06 01:00:00', '2016-06-06 01:15:00',\n",
      "               '2016-06-06 01:30:00', '2016-06-06 01:45:00',\n",
      "               '2016-06-06 02:00:00', '2016-06-06 02:15:00',\n",
      "               ...\n",
      "               '2016-05-18 21:30:00', '2016-05-18 21:45:00',\n",
      "               '2016-05-18 22:00:00', '2016-05-18 22:15:00',\n",
      "               '2016-05-18 22:30:00', '2016-05-18 22:45:00',\n",
      "               '2016-05-18 23:00:00', '2016-05-18 23:15:00',\n",
      "               '2016-05-18 23:30:00',                 'NaT'],\n",
      "              dtype='datetime64[ns]', name=u'start', length=28127, freq=None)\n"
     ]
    }
   ],
   "source": [
    "print df.index"
   ]
  },
  {
   "cell_type": "code",
   "execution_count": 100,
   "metadata": {
    "collapsed": false
   },
   "outputs": [
    {
     "data": {
      "text/plain": [
       "<matplotlib.axes._subplots.AxesSubplot at 0x53d21ba8>"
      ]
     },
     "execution_count": 100,
     "metadata": {},
     "output_type": "execute_result"
    },
    {
     "data": {
      "image/png": "[encoded data removed]",
      "text/plain": [
       "<matplotlib.figure.Figure at 0x53a6e2e8>"
      ]
     },
     "metadata": {},
     "output_type": "display_data"
    }
   ],
   "source": [
    "sns.tsplot(df.mi,condition='subject')"
   ]
  },
  {
   "cell_type": "code",
   "execution_count": 49,
   "metadata": {
    "collapsed": false
   },
   "outputs": [
    {
     "data": {
      "text/plain": [
       "pandas.tseries.index.DatetimeIndex"
      ]
     },
     "execution_count": 49,
     "metadata": {},
     "output_type": "execute_result"
    }
   ],
   "source": [
    "#This interprets the integers as seconds since the Epoch.\n",
    "type(df.index)"
   ]
  },
  {
   "cell_type": "code",
   "execution_count": 54,
   "metadata": {
    "collapsed": false,
    "scrolled": false
   },
   "outputs": [
    {
     "ename": "TypeError",
     "evalue": "'TimeGrouper' object is not callable",
     "output_type": "error",
     "traceback": [
      "\u001b[1;31m---------------------------------------------------------------------------\u001b[0m",
      "\u001b[1;31mTypeError\u001b[0m                                 Traceback (most recent call last)",
      "\u001b[1;32m<ipython-input-54-8b3f186e901c>\u001b[0m in \u001b[0;36m<module>\u001b[1;34m()\u001b[0m\n\u001b[1;32m----> 1\u001b[1;33m \u001b[0mdf\u001b[0m\u001b[1;33m=\u001b[0m\u001b[0mdf\u001b[0m\u001b[1;33m.\u001b[0m\u001b[0mresample\u001b[0m\u001b[1;33m(\u001b[0m\u001b[1;34m'1H'\u001b[0m\u001b[1;33m)\u001b[0m\u001b[1;33m.\u001b[0m\u001b[0mgroupby\u001b[0m\u001b[1;33m(\u001b[0m\u001b[1;34m'subject'\u001b[0m\u001b[1;33m)\u001b[0m\u001b[1;33m.\u001b[0m\u001b[0msum\u001b[0m\u001b[1;33m(\u001b[0m\u001b[1;33m)\u001b[0m\u001b[1;33m\u001b[0m\u001b[0m\n\u001b[0m",
      "\u001b[1;31mTypeError\u001b[0m: 'TimeGrouper' object is not callable"
     ]
    }
   ],
   "source": [
    "df=df.resample('1H').groupby('subject').sum()"
   ]
  },
  {
   "cell_type": "code",
   "execution_count": 53,
   "metadata": {
    "collapsed": false
   },
   "outputs": [
    {
     "data": {
      "text/html": [
       "<div>\n",
       "<table border=\"1\" class=\"dataframe\">\n",
       "  <thead>\n",
       "    <tr style=\"text-align: right;\">\n",
       "      <th></th>\n",
       "      <th>mi</th>\n",
       "      <th>steps</th>\n",
       "      <th>Standing time</th>\n",
       "      <th>lying time</th>\n",
       "      <th>standing change</th>\n",
       "      <th>stand state</th>\n",
       "      <th>lying bouts</th>\n",
       "    </tr>\n",
       "    <tr>\n",
       "      <th>start</th>\n",
       "      <th></th>\n",
       "      <th></th>\n",
       "      <th></th>\n",
       "      <th></th>\n",
       "      <th></th>\n",
       "      <th></th>\n",
       "      <th></th>\n",
       "    </tr>\n",
       "  </thead>\n",
       "  <tbody>\n",
       "    <tr>\n",
       "      <th>2016-10-06 19:00:00</th>\n",
       "      <td>2291.0</td>\n",
       "      <td>606.0</td>\n",
       "      <td>12465.0</td>\n",
       "      <td>9429.0</td>\n",
       "      <td>9.0</td>\n",
       "      <td>12.0</td>\n",
       "      <td>3.0</td>\n",
       "    </tr>\n",
       "    <tr>\n",
       "      <th>2016-10-06 20:00:00</th>\n",
       "      <td>1167.0</td>\n",
       "      <td>283.0</td>\n",
       "      <td>11855.0</td>\n",
       "      <td>8831.0</td>\n",
       "      <td>11.0</td>\n",
       "      <td>18.0</td>\n",
       "      <td>8.0</td>\n",
       "    </tr>\n",
       "    <tr>\n",
       "      <th>2016-10-06 21:00:00</th>\n",
       "      <td>379.0</td>\n",
       "      <td>70.0</td>\n",
       "      <td>3664.0</td>\n",
       "      <td>15856.0</td>\n",
       "      <td>11.0</td>\n",
       "      <td>5.0</td>\n",
       "      <td>6.0</td>\n",
       "    </tr>\n",
       "    <tr>\n",
       "      <th>2016-10-06 22:00:00</th>\n",
       "      <td>505.0</td>\n",
       "      <td>113.0</td>\n",
       "      <td>7137.0</td>\n",
       "      <td>17564.0</td>\n",
       "      <td>11.0</td>\n",
       "      <td>9.0</td>\n",
       "      <td>4.0</td>\n",
       "    </tr>\n",
       "    <tr>\n",
       "      <th>2016-10-06 23:00:00</th>\n",
       "      <td>285.0</td>\n",
       "      <td>48.0</td>\n",
       "      <td>3483.0</td>\n",
       "      <td>9616.0</td>\n",
       "      <td>13.0</td>\n",
       "      <td>6.0</td>\n",
       "      <td>8.0</td>\n",
       "    </tr>\n",
       "  </tbody>\n",
       "</table>\n",
       "</div>"
      ],
      "text/plain": [
       "                         mi  steps  Standing time  lying time  \\\n",
       "start                                                           \n",
       "2016-10-06 19:00:00  2291.0  606.0        12465.0      9429.0   \n",
       "2016-10-06 20:00:00  1167.0  283.0        11855.0      8831.0   \n",
       "2016-10-06 21:00:00   379.0   70.0         3664.0     15856.0   \n",
       "2016-10-06 22:00:00   505.0  113.0         7137.0     17564.0   \n",
       "2016-10-06 23:00:00   285.0   48.0         3483.0      9616.0   \n",
       "\n",
       "                     standing change  stand state  lying bouts  \n",
       "start                                                           \n",
       "2016-10-06 19:00:00              9.0         12.0          3.0  \n",
       "2016-10-06 20:00:00             11.0         18.0          8.0  \n",
       "2016-10-06 21:00:00             11.0          5.0          6.0  \n",
       "2016-10-06 22:00:00             11.0          9.0          4.0  \n",
       "2016-10-06 23:00:00             13.0          6.0          8.0  "
      ]
     },
     "execution_count": 53,
     "metadata": {},
     "output_type": "execute_result"
    }
   ],
   "source": [
    "df.tail()"
   ]
  },
  {
   "cell_type": "code",
   "execution_count": 57,
   "metadata": {
    "collapsed": false
   },
   "outputs": [
    {
     "data": {
      "text/plain": [
       "<matplotlib.axes._subplots.AxesSubplot at 0x133aafd0>"
      ]
     },
     "execution_count": 57,
     "metadata": {},
     "output_type": "execute_result"
    },
    {
     "data": {
      "image/png": "[encoded data removed]",
      "text/plain": [
       "<matplotlib.figure.Figure at 0x13709c50>"
      ]
     },
     "metadata": {},
     "output_type": "display_data"
    }
   ],
   "source": [
    "df.plot()"
   ]
  },
  {
   "cell_type": "code",
   "execution_count": null,
   "metadata": {
    "collapsed": true
   },
   "outputs": [],
   "source": []
  }
 ],
 "metadata": {
  "anaconda-cloud": {},
  "kernelspec": {
   "display_name": "Python [Root]",
   "language": "python",
   "name": "Python [Root]"
  },
  "language_info": {
   "codemirror_mode": {
    "name": "ipython",
    "version": 2
   },
   "file_extension": ".py",
   "mimetype": "text/x-python",
   "name": "python",
   "nbconvert_exporter": "python",
   "pygments_lexer": "ipython2",
   "version": "2.7.11"
  }
 },
 "nbformat": 4,
 "nbformat_minor": 0
}
