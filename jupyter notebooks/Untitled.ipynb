{
 "cells": [
  {
   "cell_type": "code",
   "execution_count": 2,
   "metadata": {
    "collapsed": false
   },
   "outputs": [],
   "source": [
    "import numpy as np\n",
    "import pandas as pd\n",
    "from pandas import Series,DataFrame\n",
    "import matplotlib.pyplot as plt\n",
    "import QSTK.qstkutil.qsdateutil as du\n",
    "import QSTK.qstkutil.tsutil as tsu\n",
    "import QSTK.qstkutil.DataAccess as da\n",
    "import datetime as dt"
   ]
  },
  {
   "cell_type": "code",
   "execution_count": 23,
   "metadata": {
    "collapsed": true
   },
   "outputs": [],
   "source": [
    "%matplotlib inline"
   ]
  },
  {
   "cell_type": "code",
   "execution_count": 4,
   "metadata": {
    "collapsed": false
   },
   "outputs": [
    {
     "name": "stdout",
     "output_type": "stream",
     "text": [
      "[('SPY', 0.30000001192092896) ('GABBA', 0.20000000298023224)\n",
      " ('GLD', 0.30000001192092896) ('7ABBA', 0.20000000298023224)]\n"
     ]
    }
   ],
   "source": [
    "na_portfolio=np.loadtxt('D:\\Ebooks\\MSc Big Data -Stirling University\\Online Courses_MOOCS\\Computational Investing Part I\\QSTK\\portfolio.csv',dtype='S5,f4',delimiter=',',skiprows=1)\n",
    "print na_portfolio"
   ]
  },
  {
   "cell_type": "code",
   "execution_count": 5,
   "metadata": {
    "collapsed": true
   },
   "outputs": [],
   "source": [
    "na_portfolio=sorted(na_portfolio,key=lambda x: x[0])"
   ]
  },
  {
   "cell_type": "code",
   "execution_count": 6,
   "metadata": {
    "collapsed": false
   },
   "outputs": [
    {
     "data": {
      "text/plain": [
       "[('7ABBA', 0.20000000298023224),\n",
       " ('GABBA', 0.20000000298023224),\n",
       " ('GLD', 0.30000001192092896),\n",
       " ('SPY', 0.30000001192092896)]"
      ]
     },
     "execution_count": 6,
     "metadata": {},
     "output_type": "execute_result"
    }
   ],
   "source": [
    "na_portfolio"
   ]
  },
  {
   "cell_type": "code",
   "execution_count": 7,
   "metadata": {
    "collapsed": true
   },
   "outputs": [],
   "source": [
    "ls_port_syms=[]\n",
    "lf_port_alloc=[]\n",
    "for port in na_portfolio:\n",
    "    ls_port_syms.append(port[0])\n",
    "    lf_port_alloc.append(port[1])"
   ]
  },
  {
   "cell_type": "code",
   "execution_count": 8,
   "metadata": {
    "collapsed": false
   },
   "outputs": [
    {
     "name": "stdout",
     "output_type": "stream",
     "text": [
      "['7ABBA', 'GABBA', 'GLD', 'SPY']\n",
      "[0.2, 0.2, 0.30000001, 0.30000001]\n"
     ]
    }
   ],
   "source": [
    "print ls_port_syms\n",
    "print lf_port_alloc"
   ]
  },
  {
   "cell_type": "code",
   "execution_count": 9,
   "metadata": {
    "collapsed": true
   },
   "outputs": [],
   "source": [
    "c_dataobj=da.DataAccess('Yahoo')\n",
    "ls_all_syms=c_dataobj.get_all_symbols()\n",
    "ls_bad_syms=list(set(ls_port_syms)-set(ls_all_syms))"
   ]
  },
  {
   "cell_type": "code",
   "execution_count": 10,
   "metadata": {
    "collapsed": false
   },
   "outputs": [
    {
     "name": "stdout",
     "output_type": "stream",
     "text": [
      "portfolio contains bad symbols:  ['7ABBA', 'GABBA']\n"
     ]
    }
   ],
   "source": [
    "if len(ls_bad_syms) !=0:\n",
    "    print \"portfolio contains bad symbols: \",ls_bad_syms"
   ]
  },
  {
   "cell_type": "code",
   "execution_count": 11,
   "metadata": {
    "collapsed": true
   },
   "outputs": [],
   "source": [
    "for s_sym in ls_bad_syms:\n",
    "    i_index=ls_port_syms.index(s_sym)\n",
    "    ls_port_syms.pop(i_index)\n",
    "    lf_port_alloc.pop(i_index)\n",
    "    "
   ]
  },
  {
   "cell_type": "code",
   "execution_count": 12,
   "metadata": {
    "collapsed": false
   },
   "outputs": [
    {
     "name": "stdout",
     "output_type": "stream",
     "text": [
      "['GLD', 'SPY']\n"
     ]
    }
   ],
   "source": [
    "print ls_port_syms"
   ]
  },
  {
   "cell_type": "code",
   "execution_count": 13,
   "metadata": {
    "collapsed": false
   },
   "outputs": [
    {
     "name": "stdout",
     "output_type": "stream",
     "text": [
      "[0.30000001, 0.30000001]\n"
     ]
    }
   ],
   "source": [
    "print lf_port_alloc"
   ]
  },
  {
   "cell_type": "code",
   "execution_count": 14,
   "metadata": {
    "collapsed": true
   },
   "outputs": [],
   "source": [
    "dt_end=dt.datetime(2011,1,1)\n",
    "dt_start=dt_end-dt.timedelta(days=1095) #three years\n",
    "dt_timeofday=dt.timedelta(hours=16)\n",
    "ldt_timestamps=du.getNYSEdays(dt_start,dt_end,dt_timeofday)\n",
    "ls_keys=['open','high','low','close','volume','actual_close']\n",
    "ldf_data=c_dataobj.get_data(ldt_timestamps,ls_port_syms,ls_keys)\n",
    "d_data=dict(zip(ls_keys,ldf_data))"
   ]
  },
  {
   "cell_type": "code",
   "execution_count": 18,
   "metadata": {
    "collapsed": false
   },
   "outputs": [
    {
     "name": "stdout",
     "output_type": "stream",
     "text": [
      "                        GLD     SPY\n",
      "2008-01-02 16:00:00   83.56  146.53\n",
      "2008-01-03 16:00:00   84.87  144.91\n",
      "2008-01-04 16:00:00   85.34  143.34\n",
      "2008-01-07 16:00:00   85.24  141.81\n",
      "2008-01-08 16:00:00   86.28  142.08\n",
      "2008-01-09 16:00:00   86.56  139.09\n",
      "2008-01-10 16:00:00   86.42  139.68\n",
      "2008-01-11 16:00:00   88.04  140.78\n",
      "2008-01-14 16:00:00   89.45  141.16\n",
      "2008-01-15 16:00:00   89.60  139.79\n",
      "2008-01-16 16:00:00   88.17  137.36\n",
      "2008-01-17 16:00:00   87.50  137.81\n",
      "2008-01-18 16:00:00   87.17  134.74\n",
      "2008-01-22 16:00:00   86.14  127.21\n",
      "2008-01-23 16:00:00   87.16  127.09\n",
      "2008-01-24 16:00:00   89.72  134.48\n",
      "2008-01-25 16:00:00   90.93  136.51\n",
      "2008-01-28 16:00:00   90.96  133.26\n",
      "2008-01-29 16:00:00   91.36  136.10\n",
      "2008-01-30 16:00:00   90.71  135.58\n",
      "2008-01-31 16:00:00   90.92  133.40\n",
      "2008-02-01 16:00:00   91.75  137.94\n",
      "2008-02-04 16:00:00   88.51  139.21\n",
      "2008-02-05 16:00:00   87.90  135.94\n",
      "2008-02-06 16:00:00   89.00  134.58\n",
      "2008-02-07 16:00:00   88.95  131.80\n",
      "2008-02-08 16:00:00   90.00  133.09\n",
      "2008-02-11 16:00:00   91.04  133.10\n",
      "2008-02-12 16:00:00   90.83  134.91\n",
      "2008-02-13 16:00:00   88.88  136.01\n",
      "...                     ...     ...\n",
      "2010-11-18 16:00:00  131.82  119.36\n",
      "2010-11-19 16:00:00  131.48  119.90\n",
      "2010-11-22 16:00:00  132.13  119.69\n",
      "2010-11-23 16:00:00  133.60  118.77\n",
      "2010-11-24 16:00:00  134.36  119.20\n",
      "2010-11-26 16:00:00  132.38  119.16\n",
      "2010-11-29 16:00:00  133.19  118.50\n",
      "2010-11-30 16:00:00  135.21  117.98\n",
      "2010-12-01 16:00:00  135.71  120.20\n",
      "2010-12-02 16:00:00  135.62  121.20\n",
      "2010-12-03 16:00:00  136.62  122.14\n",
      "2010-12-06 16:00:00  138.14  122.63\n",
      "2010-12-07 16:00:00  139.46  123.94\n",
      "2010-12-08 16:00:00  135.91  122.98\n",
      "2010-12-09 16:00:00  135.69  123.97\n",
      "2010-12-10 16:00:00  134.94  124.14\n",
      "2010-12-13 16:00:00  136.26  125.05\n",
      "2010-12-14 16:00:00  136.27  124.75\n",
      "2010-12-15 16:00:00  135.34  124.44\n",
      "2010-12-16 16:00:00  134.21  124.18\n",
      "2010-12-17 16:00:00  133.97  124.08\n",
      "2010-12-20 16:00:00  135.13  124.64\n",
      "2010-12-21 16:00:00  135.17  124.99\n",
      "2010-12-22 16:00:00  135.60  125.48\n",
      "2010-12-23 16:00:00  134.26  125.64\n",
      "2010-12-27 16:00:00  134.96  125.13\n",
      "2010-12-28 16:00:00  136.85  125.90\n",
      "2010-12-29 16:00:00  137.38  125.98\n",
      "2010-12-30 16:00:00  137.58  125.80\n",
      "2010-12-31 16:00:00  137.78  125.53\n",
      "\n",
      "[757 rows x 2 columns]\n"
     ]
    }
   ],
   "source": [
    "print d_data['open']"
   ]
  },
  {
   "cell_type": "code",
   "execution_count": 19,
   "metadata": {
    "collapsed": true
   },
   "outputs": [],
   "source": [
    "df_rets=d_data['close'].copy()\n",
    "df_rets=df_rets.fillna(method='ffill')\n",
    "df_rets=df_rets.fillna(method='bfill')\n",
    "na_rets=df_rets.values\n",
    "tsu.returnize0(na_rets)\n",
    "na_portrets=np.sum(na_rets*lf_port_alloc,axis=1)\n",
    "na_port_total=np.cumprod(na_portrets+1)\n",
    "na_component_total=np.cumprod(na_rets+1,axis=0)"
   ]
  },
  {
   "cell_type": "code",
   "execution_count": 24,
   "metadata": {
    "collapsed": false
   },
   "outputs": [
    {
     "data": {
      "text/plain": [
       "<matplotlib.figure.Figure at 0xe013b38>"
      ]
     },
     "metadata": {},
     "output_type": "display_data"
    },
    {
     "data": {
      "image/png": "[encoded data removed]",
      "text/plain": [
       "<matplotlib.figure.Figure at 0xe013b00>"
      ]
     },
     "metadata": {},
     "output_type": "display_data"
    }
   ],
   "source": [
    "plt.clf()\n",
    "fig=plt.figure()\n",
    "fig.add_subplot(111)\n",
    "plt.plot(ldt_timestamps,na_component_total,alpha=0.4)\n",
    "plt.plot(ldt_timestamps,na_port_total)\n",
    "ls_names=ls_port_syms\n",
    "ls_names.append('Portfolio')\n",
    "plt.legend(ls_names)\n",
    "plt.ylabel('Cumulative Returns')\n",
    "plt.xlabel('Date')\n",
    "fig.autofmt_xdate(rotation=45)\n",
    "plt.savefig('tutorial3.pdf',format='pdf')"
   ]
  },
  {
   "cell_type": "code",
   "execution_count": null,
   "metadata": {
    "collapsed": true
   },
   "outputs": [],
   "source": []
  }
 ],
 "metadata": {
  "kernelspec": {
   "display_name": "Python 2",
   "language": "python",
   "name": "python2"
  },
  "language_info": {
   "codemirror_mode": {
    "name": "ipython",
    "version": 2
   },
   "file_extension": ".py",
   "mimetype": "text/x-python",
   "name": "python",
   "nbconvert_exporter": "python",
   "pygments_lexer": "ipython2",
   "version": "2.7.11"
  }
 },
 "nbformat": 4,
 "nbformat_minor": 0
}
